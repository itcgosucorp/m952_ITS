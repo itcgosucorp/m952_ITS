{
 "cells": [
  {
   "cell_type": "markdown",
   "id": "2479dca0",
   "metadata": {},
   "source": [
    "<div style=\"color:#007acc; text-align:center; font-size:32px; font-weight:bold; font-family:Arial, sans-serif;\">\n",
    "  Explore Data Analysis and Transform Register Log Data\n",
    "</div>"
   ]
  },
  {
   "cell_type": "code",
   "execution_count": 1,
   "id": "63563afb",
   "metadata": {},
   "outputs": [],
   "source": [
    "import pandas as pd\n",
    "import numpy as np\n",
    "import matplotlib.pyplot as plt\n",
    "import seaborn as sns\n",
    "\n",
    "pd.set_option('display.max_colwidth', None)\n",
    "pd.set_option('display.max_columns',None)\n",
    "pd.set_option('display.float_format', lambda x: '%.2f' % x)"
   ]
  },
  {
   "cell_type": "code",
   "execution_count": 2,
   "id": "c0474204",
   "metadata": {},
   "outputs": [
    {
     "data": {
      "text/html": [
       "<div>\n",
       "<style scoped>\n",
       "    .dataframe tbody tr th:only-of-type {\n",
       "        vertical-align: middle;\n",
       "    }\n",
       "\n",
       "    .dataframe tbody tr th {\n",
       "        vertical-align: top;\n",
       "    }\n",
       "\n",
       "    .dataframe thead th {\n",
       "        text-align: right;\n",
       "    }\n",
       "</style>\n",
       "<table border=\"1\" class=\"dataframe\">\n",
       "  <thead>\n",
       "    <tr style=\"text-align: right;\">\n",
       "      <th></th>\n",
       "      <th>@timestamp</th>\n",
       "      <th>user.id</th>\n",
       "    </tr>\n",
       "  </thead>\n",
       "  <tbody>\n",
       "    <tr>\n",
       "      <th>0</th>\n",
       "      <td>2025-05-01T00:00:28.354Z</td>\n",
       "      <td>2505010700283540</td>\n",
       "    </tr>\n",
       "    <tr>\n",
       "      <th>1</th>\n",
       "      <td>2025-05-01T00:00:34.855Z</td>\n",
       "      <td>2505010700348550</td>\n",
       "    </tr>\n",
       "    <tr>\n",
       "      <th>2</th>\n",
       "      <td>2025-05-01T00:02:24.708Z</td>\n",
       "      <td>2505010702247086</td>\n",
       "    </tr>\n",
       "    <tr>\n",
       "      <th>3</th>\n",
       "      <td>2025-05-01T00:03:02.080Z</td>\n",
       "      <td>2505010703020807</td>\n",
       "    </tr>\n",
       "    <tr>\n",
       "      <th>4</th>\n",
       "      <td>2025-05-01T00:03:08.093Z</td>\n",
       "      <td>2505010703080934</td>\n",
       "    </tr>\n",
       "    <tr>\n",
       "      <th>...</th>\n",
       "      <td>...</td>\n",
       "      <td>...</td>\n",
       "    </tr>\n",
       "    <tr>\n",
       "      <th>127964</th>\n",
       "      <td>2025-06-25T23:56:39.050Z</td>\n",
       "      <td>2506260656390508</td>\n",
       "    </tr>\n",
       "    <tr>\n",
       "      <th>127965</th>\n",
       "      <td>2025-06-25T23:57:20.392Z</td>\n",
       "      <td>2506260657203920</td>\n",
       "    </tr>\n",
       "    <tr>\n",
       "      <th>127966</th>\n",
       "      <td>2025-06-25T23:58:13.088Z</td>\n",
       "      <td>2506260658130886</td>\n",
       "    </tr>\n",
       "    <tr>\n",
       "      <th>127967</th>\n",
       "      <td>2025-06-25T23:59:10.941Z</td>\n",
       "      <td>2506260659109416</td>\n",
       "    </tr>\n",
       "    <tr>\n",
       "      <th>127968</th>\n",
       "      <td>2025-06-25T23:59:52.902Z</td>\n",
       "      <td>2506260659529023</td>\n",
       "    </tr>\n",
       "  </tbody>\n",
       "</table>\n",
       "<p>127969 rows × 2 columns</p>\n",
       "</div>"
      ],
      "text/plain": [
       "                      @timestamp           user.id\n",
       "0       2025-05-01T00:00:28.354Z  2505010700283540\n",
       "1       2025-05-01T00:00:34.855Z  2505010700348550\n",
       "2       2025-05-01T00:02:24.708Z  2505010702247086\n",
       "3       2025-05-01T00:03:02.080Z  2505010703020807\n",
       "4       2025-05-01T00:03:08.093Z  2505010703080934\n",
       "...                          ...               ...\n",
       "127964  2025-06-25T23:56:39.050Z  2506260656390508\n",
       "127965  2025-06-25T23:57:20.392Z  2506260657203920\n",
       "127966  2025-06-25T23:58:13.088Z  2506260658130886\n",
       "127967  2025-06-25T23:59:10.941Z  2506260659109416\n",
       "127968  2025-06-25T23:59:52.902Z  2506260659529023\n",
       "\n",
       "[127969 rows x 2 columns]"
      ]
     },
     "execution_count": 2,
     "metadata": {},
     "output_type": "execute_result"
    }
   ],
   "source": [
    "df=pd.read_csv(\"../ingest_from_ITS/data/m952_register_2025-05-01_00-00-00_to_2025-06-26_00-00-00.csv\") \n",
    "df"
   ]
  },
  {
   "cell_type": "code",
   "execution_count": 3,
   "id": "6e8d887e",
   "metadata": {},
   "outputs": [],
   "source": [
    "df['user.id']=df['user.id'].astype(str)"
   ]
  },
  {
   "cell_type": "code",
   "execution_count": 4,
   "id": "926fc740",
   "metadata": {},
   "outputs": [
    {
     "name": "stdout",
     "output_type": "stream",
     "text": [
      "<class 'pandas.core.frame.DataFrame'>\n",
      "RangeIndex: 127969 entries, 0 to 127968\n",
      "Data columns (total 2 columns):\n",
      " #   Column      Non-Null Count   Dtype \n",
      "---  ------      --------------   ----- \n",
      " 0   @timestamp  127969 non-null  object\n",
      " 1   user.id     127969 non-null  object\n",
      "dtypes: object(2)\n",
      "memory usage: 2.0+ MB\n"
     ]
    }
   ],
   "source": [
    "df.info()"
   ]
  },
  {
   "cell_type": "code",
   "execution_count": 5,
   "id": "018d99a6",
   "metadata": {},
   "outputs": [
    {
     "data": {
      "text/html": [
       "<div>\n",
       "<style scoped>\n",
       "    .dataframe tbody tr th:only-of-type {\n",
       "        vertical-align: middle;\n",
       "    }\n",
       "\n",
       "    .dataframe tbody tr th {\n",
       "        vertical-align: top;\n",
       "    }\n",
       "\n",
       "    .dataframe thead th {\n",
       "        text-align: right;\n",
       "    }\n",
       "</style>\n",
       "<table border=\"1\" class=\"dataframe\">\n",
       "  <thead>\n",
       "    <tr style=\"text-align: right;\">\n",
       "      <th></th>\n",
       "      <th>@timestamp</th>\n",
       "      <th>user.id</th>\n",
       "    </tr>\n",
       "  </thead>\n",
       "  <tbody>\n",
       "    <tr>\n",
       "      <th>count</th>\n",
       "      <td>127969</td>\n",
       "      <td>127969</td>\n",
       "    </tr>\n",
       "    <tr>\n",
       "      <th>unique</th>\n",
       "      <td>117929</td>\n",
       "      <td>119109</td>\n",
       "    </tr>\n",
       "    <tr>\n",
       "      <th>top</th>\n",
       "      <td>2025-05-19T21:24:08.235Z</td>\n",
       "      <td>2505151818390010</td>\n",
       "    </tr>\n",
       "    <tr>\n",
       "      <th>freq</th>\n",
       "      <td>8</td>\n",
       "      <td>4</td>\n",
       "    </tr>\n",
       "  </tbody>\n",
       "</table>\n",
       "</div>"
      ],
      "text/plain": [
       "                      @timestamp           user.id\n",
       "count                     127969            127969\n",
       "unique                    117929            119109\n",
       "top     2025-05-19T21:24:08.235Z  2505151818390010\n",
       "freq                           8                 4"
      ]
     },
     "execution_count": 5,
     "metadata": {},
     "output_type": "execute_result"
    }
   ],
   "source": [
    "df.describe()"
   ]
  },
  {
   "cell_type": "code",
   "execution_count": 6,
   "id": "fc2b91f3",
   "metadata": {},
   "outputs": [
    {
     "data": {
      "text/plain": [
       "@timestamp    0\n",
       "user.id       0\n",
       "dtype: int64"
      ]
     },
     "execution_count": 6,
     "metadata": {},
     "output_type": "execute_result"
    }
   ],
   "source": [
    "df.isnull().sum()"
   ]
  },
  {
   "cell_type": "code",
   "execution_count": 7,
   "id": "77ee8620",
   "metadata": {},
   "outputs": [
    {
     "name": "stdout",
     "output_type": "stream",
     "text": [
      "column deleted: []\n"
     ]
    },
    {
     "data": {
      "text/plain": [
       "(127969, 2)"
      ]
     },
     "execution_count": 7,
     "metadata": {},
     "output_type": "execute_result"
    }
   ],
   "source": [
    "null_ratio = df.isnull().mean()\n",
    "cols_to_drop = null_ratio[null_ratio > 0.95].index\n",
    "print(\"column deleted:\", list(cols_to_drop))\n",
    "df = df.drop(columns=cols_to_drop)\n",
    "df.shape"
   ]
  },
  {
   "cell_type": "code",
   "execution_count": 8,
   "id": "efd1207b",
   "metadata": {},
   "outputs": [
    {
     "data": {
      "text/plain": [
       "(127969, 2)"
      ]
     },
     "execution_count": 8,
     "metadata": {},
     "output_type": "execute_result"
    }
   ],
   "source": [
    "df['@timestamp'] = pd.to_datetime(df['@timestamp'], errors='coerce', utc=True)\n",
    "df.shape"
   ]
  },
  {
   "cell_type": "code",
   "execution_count": 9,
   "id": "c97f259b",
   "metadata": {},
   "outputs": [
    {
     "data": {
      "text/plain": [
       "119109"
      ]
     },
     "execution_count": 9,
     "metadata": {},
     "output_type": "execute_result"
    }
   ],
   "source": [
    "len(df['user.id'].unique())"
   ]
  },
  {
   "cell_type": "code",
   "execution_count": 10,
   "id": "4748b15f",
   "metadata": {},
   "outputs": [],
   "source": [
    "df=df.rename(columns={'user.id':'vopenid'})"
   ]
  },
  {
   "cell_type": "markdown",
   "id": "7a1a174e",
   "metadata": {},
   "source": [
    "#### **Create features**"
   ]
  },
  {
   "cell_type": "code",
   "execution_count": 11,
   "id": "c0e3ddde",
   "metadata": {},
   "outputs": [],
   "source": [
    "data=df\n",
    "# now = pd.Timestamp.now(tz='UTC')\n",
    "now = pd.Timestamp(\"2025-06-26 00:00:00\", tz=\"UTC\")"
   ]
  },
  {
   "cell_type": "code",
   "execution_count": 12,
   "id": "d1f3f4f8",
   "metadata": {},
   "outputs": [],
   "source": [
    "def last_update_time(group):\n",
    "    last_time = group['@timestamp'].max()\n",
    "    return {\n",
    "        'last_update_time': last_time\n",
    "    }"
   ]
  },
  {
   "cell_type": "code",
   "execution_count": 13,
   "id": "e7232b94",
   "metadata": {},
   "outputs": [],
   "source": [
    "def register_days_since(group):\n",
    "    try:\n",
    "        register_time = group['@timestamp'].min()\n",
    "        days_since_register = (now - register_time).days\n",
    "        return {\n",
    "            'days_since_register': days_since_register\n",
    "        }\n",
    "    except Exception as e:\n",
    "        print(f\"Error: {e}\")\n",
    "        return {\n",
    "            'days_since_register': None\n",
    "        }\n"
   ]
  },
  {
   "cell_type": "code",
   "execution_count": 14,
   "id": "f4d7d725",
   "metadata": {},
   "outputs": [],
   "source": [
    "features_function=[\n",
    "   last_update_time,\n",
    "   register_days_since,\n",
    "]"
   ]
  },
  {
   "cell_type": "code",
   "execution_count": 15,
   "id": "bce19ffe",
   "metadata": {},
   "outputs": [
    {
     "name": "stderr",
     "output_type": "stream",
     "text": [
      "C:\\Users\\GOSU.GOSU-TT-ZION1\\AppData\\Local\\Temp\\ipykernel_21756\\3747869921.py:10: DeprecationWarning: DataFrameGroupBy.apply operated on the grouping columns. This behavior is deprecated, and in a future version of pandas the grouping columns will be excluded from the operation. Either pass `include_groups=False` to exclude the groupings or explicitly select the grouping columns after groupby to silence this warning.\n",
      "  df_res = data.groupby('vopenid').apply(extract_group_features).reset_index()\n"
     ]
    },
    {
     "data": {
      "text/html": [
       "<div>\n",
       "<style scoped>\n",
       "    .dataframe tbody tr th:only-of-type {\n",
       "        vertical-align: middle;\n",
       "    }\n",
       "\n",
       "    .dataframe tbody tr th {\n",
       "        vertical-align: top;\n",
       "    }\n",
       "\n",
       "    .dataframe thead th {\n",
       "        text-align: right;\n",
       "    }\n",
       "</style>\n",
       "<table border=\"1\" class=\"dataframe\">\n",
       "  <thead>\n",
       "    <tr style=\"text-align: right;\">\n",
       "      <th></th>\n",
       "      <th>vopenid</th>\n",
       "      <th>last_update_time</th>\n",
       "      <th>days_since_register</th>\n",
       "    </tr>\n",
       "  </thead>\n",
       "  <tbody>\n",
       "    <tr>\n",
       "      <th>0</th>\n",
       "      <td>2505010700283540</td>\n",
       "      <td>2025-05-01 00:00:28.354000+00:00</td>\n",
       "      <td>55</td>\n",
       "    </tr>\n",
       "    <tr>\n",
       "      <th>1</th>\n",
       "      <td>2505010700348550</td>\n",
       "      <td>2025-05-01 00:00:34.855000+00:00</td>\n",
       "      <td>55</td>\n",
       "    </tr>\n",
       "    <tr>\n",
       "      <th>2</th>\n",
       "      <td>2505010702247086</td>\n",
       "      <td>2025-05-01 00:02:24.708000+00:00</td>\n",
       "      <td>55</td>\n",
       "    </tr>\n",
       "    <tr>\n",
       "      <th>3</th>\n",
       "      <td>2505010703020807</td>\n",
       "      <td>2025-05-01 00:03:02.080000+00:00</td>\n",
       "      <td>55</td>\n",
       "    </tr>\n",
       "    <tr>\n",
       "      <th>4</th>\n",
       "      <td>2505010703080934</td>\n",
       "      <td>2025-05-01 00:03:08.093000+00:00</td>\n",
       "      <td>55</td>\n",
       "    </tr>\n",
       "    <tr>\n",
       "      <th>...</th>\n",
       "      <td>...</td>\n",
       "      <td>...</td>\n",
       "      <td>...</td>\n",
       "    </tr>\n",
       "    <tr>\n",
       "      <th>119104</th>\n",
       "      <td>2506260656390508</td>\n",
       "      <td>2025-06-25 23:56:39.050000+00:00</td>\n",
       "      <td>0</td>\n",
       "    </tr>\n",
       "    <tr>\n",
       "      <th>119105</th>\n",
       "      <td>2506260657203920</td>\n",
       "      <td>2025-06-25 23:57:20.392000+00:00</td>\n",
       "      <td>0</td>\n",
       "    </tr>\n",
       "    <tr>\n",
       "      <th>119106</th>\n",
       "      <td>2506260658130886</td>\n",
       "      <td>2025-06-25 23:58:13.088000+00:00</td>\n",
       "      <td>0</td>\n",
       "    </tr>\n",
       "    <tr>\n",
       "      <th>119107</th>\n",
       "      <td>2506260659109416</td>\n",
       "      <td>2025-06-25 23:59:10.941000+00:00</td>\n",
       "      <td>0</td>\n",
       "    </tr>\n",
       "    <tr>\n",
       "      <th>119108</th>\n",
       "      <td>2506260659529023</td>\n",
       "      <td>2025-06-25 23:59:52.902000+00:00</td>\n",
       "      <td>0</td>\n",
       "    </tr>\n",
       "  </tbody>\n",
       "</table>\n",
       "<p>119109 rows × 3 columns</p>\n",
       "</div>"
      ],
      "text/plain": [
       "                 vopenid                 last_update_time  days_since_register\n",
       "0       2505010700283540 2025-05-01 00:00:28.354000+00:00                   55\n",
       "1       2505010700348550 2025-05-01 00:00:34.855000+00:00                   55\n",
       "2       2505010702247086 2025-05-01 00:02:24.708000+00:00                   55\n",
       "3       2505010703020807 2025-05-01 00:03:02.080000+00:00                   55\n",
       "4       2505010703080934 2025-05-01 00:03:08.093000+00:00                   55\n",
       "...                  ...                              ...                  ...\n",
       "119104  2506260656390508 2025-06-25 23:56:39.050000+00:00                    0\n",
       "119105  2506260657203920 2025-06-25 23:57:20.392000+00:00                    0\n",
       "119106  2506260658130886 2025-06-25 23:58:13.088000+00:00                    0\n",
       "119107  2506260659109416 2025-06-25 23:59:10.941000+00:00                    0\n",
       "119108  2506260659529023 2025-06-25 23:59:52.902000+00:00                    0\n",
       "\n",
       "[119109 rows x 3 columns]"
      ]
     },
     "execution_count": 15,
     "metadata": {},
     "output_type": "execute_result"
    }
   ],
   "source": [
    "def extract_group_features(group):\n",
    "    result={}\n",
    "    for func in features_function:\n",
    "        try:\n",
    "            result.update(func(group))\n",
    "        except Exception as e:\n",
    "            print(f\"Error at feature: {func}. Error: {e}\")\n",
    "    return pd.Series(result)\n",
    "\n",
    "df_res = data.groupby('vopenid').apply(extract_group_features).reset_index()\n",
    "df_res"
   ]
  },
  {
   "cell_type": "code",
   "execution_count": 16,
   "id": "b948bfab",
   "metadata": {},
   "outputs": [],
   "source": [
    "df_res=df_res[df_res['days_since_register']>=7]"
   ]
  },
  {
   "cell_type": "code",
   "execution_count": 17,
   "id": "e5c6a6d0",
   "metadata": {},
   "outputs": [],
   "source": [
    "df_res.to_csv(\"data/register_transform.csv\",index=False,header=True)"
   ]
  },
  {
   "cell_type": "code",
   "execution_count": 18,
   "id": "70862f37",
   "metadata": {},
   "outputs": [
    {
     "data": {
      "text/plain": [
       "(99270, 3)"
      ]
     },
     "execution_count": 18,
     "metadata": {},
     "output_type": "execute_result"
    }
   ],
   "source": [
    "df_res.shape"
   ]
  },
  {
   "cell_type": "code",
   "execution_count": null,
   "id": "0cd82bba",
   "metadata": {},
   "outputs": [],
   "source": []
  },
  {
   "cell_type": "code",
   "execution_count": null,
   "id": "5ebdee84",
   "metadata": {},
   "outputs": [],
   "source": []
  },
  {
   "cell_type": "code",
   "execution_count": null,
   "id": "92b93622",
   "metadata": {},
   "outputs": [],
   "source": []
  }
 ],
 "metadata": {
  "kernelspec": {
   "display_name": "Python 3",
   "language": "python",
   "name": "python3"
  },
  "language_info": {
   "codemirror_mode": {
    "name": "ipython",
    "version": 3
   },
   "file_extension": ".py",
   "mimetype": "text/x-python",
   "name": "python",
   "nbconvert_exporter": "python",
   "pygments_lexer": "ipython3",
   "version": "3.12.6"
  }
 },
 "nbformat": 4,
 "nbformat_minor": 5
}
