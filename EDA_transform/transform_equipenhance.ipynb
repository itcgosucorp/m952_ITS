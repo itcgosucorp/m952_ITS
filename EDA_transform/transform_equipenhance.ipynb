{
 "cells": [
  {
   "cell_type": "markdown",
   "id": "f448a622",
   "metadata": {},
   "source": [
    "<div style=\"color:#007acc; text-align:center; font-size:32px; font-weight:bold; font-family:Arial, sans-serif;\">\n",
    "  Explore Data Analysis and Transform Equipenhance Log Data\n",
    "</div>\n"
   ]
  },
  {
   "cell_type": "code",
   "execution_count": 1,
   "id": "fa3f7b8c",
   "metadata": {},
   "outputs": [],
   "source": [
    "import pandas as pd\n",
    "import numpy as np\n",
    "import matplotlib.pyplot as plt\n",
    "import seaborn as sns\n",
    "\n",
    "pd.set_option('display.max_colwidth', None)\n",
    "pd.set_option('display.max_columns',None)\n",
    "pd.set_option('display.float_format', lambda x: '%.2f' % x)"
   ]
  },
  {
   "cell_type": "code",
   "execution_count": 2,
   "id": "c5310eb7",
   "metadata": {},
   "outputs": [
    {
     "name": "stderr",
     "output_type": "stream",
     "text": [
      "C:\\Users\\GOSU.GOSU-TT-ZION1\\AppData\\Local\\Temp\\ipykernel_17456\\79412123.py:1: DtypeWarning: Columns (27) have mixed types. Specify dtype option on import or set low_memory=False.\n",
      "  df=pd.read_csv(\"../ingest_from_ITS/data/m952_equipenhance_2025-05-04_00-00-00_to_2025-06-19_00-00-00.csv\",\n"
     ]
    },
    {
     "data": {
      "text/html": [
       "<div>\n",
       "<style scoped>\n",
       "    .dataframe tbody tr th:only-of-type {\n",
       "        vertical-align: middle;\n",
       "    }\n",
       "\n",
       "    .dataframe tbody tr th {\n",
       "        vertical-align: top;\n",
       "    }\n",
       "\n",
       "    .dataframe thead th {\n",
       "        text-align: right;\n",
       "    }\n",
       "</style>\n",
       "<table border=\"1\" class=\"dataframe\">\n",
       "  <thead>\n",
       "    <tr style=\"text-align: right;\">\n",
       "      <th></th>\n",
       "      <th>@timestamp</th>\n",
       "      <th>event.its.properties.i_before_level</th>\n",
       "      <th>event.its.properties.i_after_level</th>\n",
       "      <th>user.id</th>\n",
       "    </tr>\n",
       "  </thead>\n",
       "  <tbody>\n",
       "    <tr>\n",
       "      <th>0</th>\n",
       "      <td>2025-05-03T17:00:00.000Z</td>\n",
       "      <td>2</td>\n",
       "      <td>3</td>\n",
       "      <td>2407152127470964</td>\n",
       "    </tr>\n",
       "    <tr>\n",
       "      <th>1</th>\n",
       "      <td>2025-05-03T17:00:00.000Z</td>\n",
       "      <td>0</td>\n",
       "      <td>1</td>\n",
       "      <td>2501151225298848</td>\n",
       "    </tr>\n",
       "    <tr>\n",
       "      <th>2</th>\n",
       "      <td>2025-05-03T17:00:01.000Z</td>\n",
       "      <td>2</td>\n",
       "      <td>0</td>\n",
       "      <td>2503222323048092</td>\n",
       "    </tr>\n",
       "    <tr>\n",
       "      <th>3</th>\n",
       "      <td>2025-05-03T17:00:01.000Z</td>\n",
       "      <td>1</td>\n",
       "      <td>2</td>\n",
       "      <td>2412231548057710</td>\n",
       "    </tr>\n",
       "    <tr>\n",
       "      <th>4</th>\n",
       "      <td>2025-05-03T17:00:01.000Z</td>\n",
       "      <td>3</td>\n",
       "      <td>0</td>\n",
       "      <td>2407030933487570</td>\n",
       "    </tr>\n",
       "    <tr>\n",
       "      <th>...</th>\n",
       "      <td>...</td>\n",
       "      <td>...</td>\n",
       "      <td>...</td>\n",
       "      <td>...</td>\n",
       "    </tr>\n",
       "    <tr>\n",
       "      <th>6820886</th>\n",
       "      <td>2025-06-18T16:59:56.000Z</td>\n",
       "      <td>0</td>\n",
       "      <td>1</td>\n",
       "      <td>2409051732598555</td>\n",
       "    </tr>\n",
       "    <tr>\n",
       "      <th>6820887</th>\n",
       "      <td>2025-06-18T16:59:57.000Z</td>\n",
       "      <td>0</td>\n",
       "      <td>1</td>\n",
       "      <td>2503012137220422</td>\n",
       "    </tr>\n",
       "    <tr>\n",
       "      <th>6820888</th>\n",
       "      <td>2025-06-18T16:59:57.000Z</td>\n",
       "      <td>5</td>\n",
       "      <td>4</td>\n",
       "      <td>2502010237011465</td>\n",
       "    </tr>\n",
       "    <tr>\n",
       "      <th>6820889</th>\n",
       "      <td>2025-06-18T16:59:57.000Z</td>\n",
       "      <td>5</td>\n",
       "      <td>6</td>\n",
       "      <td>2407041513419618</td>\n",
       "    </tr>\n",
       "    <tr>\n",
       "      <th>6820890</th>\n",
       "      <td>2025-06-18T16:59:58.000Z</td>\n",
       "      <td>0</td>\n",
       "      <td>1</td>\n",
       "      <td>2502252046359603</td>\n",
       "    </tr>\n",
       "  </tbody>\n",
       "</table>\n",
       "<p>6820891 rows × 4 columns</p>\n",
       "</div>"
      ],
      "text/plain": [
       "                       @timestamp  event.its.properties.i_before_level  \\\n",
       "0        2025-05-03T17:00:00.000Z                                    2   \n",
       "1        2025-05-03T17:00:00.000Z                                    0   \n",
       "2        2025-05-03T17:00:01.000Z                                    2   \n",
       "3        2025-05-03T17:00:01.000Z                                    1   \n",
       "4        2025-05-03T17:00:01.000Z                                    3   \n",
       "...                           ...                                  ...   \n",
       "6820886  2025-06-18T16:59:56.000Z                                    0   \n",
       "6820887  2025-06-18T16:59:57.000Z                                    0   \n",
       "6820888  2025-06-18T16:59:57.000Z                                    5   \n",
       "6820889  2025-06-18T16:59:57.000Z                                    5   \n",
       "6820890  2025-06-18T16:59:58.000Z                                    0   \n",
       "\n",
       "         event.its.properties.i_after_level           user.id  \n",
       "0                                         3  2407152127470964  \n",
       "1                                         1  2501151225298848  \n",
       "2                                         0  2503222323048092  \n",
       "3                                         2  2412231548057710  \n",
       "4                                         0  2407030933487570  \n",
       "...                                     ...               ...  \n",
       "6820886                                   1  2409051732598555  \n",
       "6820887                                   1  2503012137220422  \n",
       "6820888                                   4  2502010237011465  \n",
       "6820889                                   6  2407041513419618  \n",
       "6820890                                   1  2502252046359603  \n",
       "\n",
       "[6820891 rows x 4 columns]"
      ]
     },
     "execution_count": 2,
     "metadata": {},
     "output_type": "execute_result"
    }
   ],
   "source": [
    "df=pd.read_csv(\"../ingest_from_ITS/data/m952_equipenhance_2025-05-04_00-00-00_to_2025-06-19_00-00-00.csv\",\n",
    "               usecols=['@timestamp','user.id','event.its.properties.i_before_level','event.its.properties.i_after_level']\n",
    "            ) \n",
    "df"
   ]
  },
  {
   "cell_type": "code",
   "execution_count": 3,
   "id": "cd510b1f",
   "metadata": {},
   "outputs": [],
   "source": [
    "df['user.id']=df['user.id'].astype(str)"
   ]
  },
  {
   "cell_type": "code",
   "execution_count": 4,
   "id": "71c1bcd7",
   "metadata": {},
   "outputs": [
    {
     "name": "stdout",
     "output_type": "stream",
     "text": [
      "<class 'pandas.core.frame.DataFrame'>\n",
      "RangeIndex: 6820891 entries, 0 to 6820890\n",
      "Data columns (total 4 columns):\n",
      " #   Column                               Dtype \n",
      "---  ------                               ----- \n",
      " 0   @timestamp                           object\n",
      " 1   event.its.properties.i_before_level  int64 \n",
      " 2   event.its.properties.i_after_level   int64 \n",
      " 3   user.id                              object\n",
      "dtypes: int64(2), object(2)\n",
      "memory usage: 208.2+ MB\n"
     ]
    }
   ],
   "source": [
    "df.info()"
   ]
  },
  {
   "cell_type": "code",
   "execution_count": 5,
   "id": "4eeedaa0",
   "metadata": {},
   "outputs": [
    {
     "data": {
      "text/html": [
       "<div>\n",
       "<style scoped>\n",
       "    .dataframe tbody tr th:only-of-type {\n",
       "        vertical-align: middle;\n",
       "    }\n",
       "\n",
       "    .dataframe tbody tr th {\n",
       "        vertical-align: top;\n",
       "    }\n",
       "\n",
       "    .dataframe thead th {\n",
       "        text-align: right;\n",
       "    }\n",
       "</style>\n",
       "<table border=\"1\" class=\"dataframe\">\n",
       "  <thead>\n",
       "    <tr style=\"text-align: right;\">\n",
       "      <th></th>\n",
       "      <th>event.its.properties.i_before_level</th>\n",
       "      <th>event.its.properties.i_after_level</th>\n",
       "    </tr>\n",
       "  </thead>\n",
       "  <tbody>\n",
       "    <tr>\n",
       "      <th>count</th>\n",
       "      <td>6820891.00</td>\n",
       "      <td>6820891.00</td>\n",
       "    </tr>\n",
       "    <tr>\n",
       "      <th>mean</th>\n",
       "      <td>1.69</td>\n",
       "      <td>2.00</td>\n",
       "    </tr>\n",
       "    <tr>\n",
       "      <th>std</th>\n",
       "      <td>1.72</td>\n",
       "      <td>1.68</td>\n",
       "    </tr>\n",
       "    <tr>\n",
       "      <th>min</th>\n",
       "      <td>0.00</td>\n",
       "      <td>-1.00</td>\n",
       "    </tr>\n",
       "    <tr>\n",
       "      <th>25%</th>\n",
       "      <td>0.00</td>\n",
       "      <td>1.00</td>\n",
       "    </tr>\n",
       "    <tr>\n",
       "      <th>50%</th>\n",
       "      <td>1.00</td>\n",
       "      <td>2.00</td>\n",
       "    </tr>\n",
       "    <tr>\n",
       "      <th>75%</th>\n",
       "      <td>3.00</td>\n",
       "      <td>3.00</td>\n",
       "    </tr>\n",
       "    <tr>\n",
       "      <th>max</th>\n",
       "      <td>14.00</td>\n",
       "      <td>16.00</td>\n",
       "    </tr>\n",
       "  </tbody>\n",
       "</table>\n",
       "</div>"
      ],
      "text/plain": [
       "       event.its.properties.i_before_level  event.its.properties.i_after_level\n",
       "count                           6820891.00                          6820891.00\n",
       "mean                                  1.69                                2.00\n",
       "std                                   1.72                                1.68\n",
       "min                                   0.00                               -1.00\n",
       "25%                                   0.00                                1.00\n",
       "50%                                   1.00                                2.00\n",
       "75%                                   3.00                                3.00\n",
       "max                                  14.00                               16.00"
      ]
     },
     "execution_count": 5,
     "metadata": {},
     "output_type": "execute_result"
    }
   ],
   "source": [
    "df.describe()"
   ]
  },
  {
   "cell_type": "code",
   "execution_count": 6,
   "id": "5b52cc6a",
   "metadata": {},
   "outputs": [
    {
     "data": {
      "text/plain": [
       "@timestamp                             0\n",
       "event.its.properties.i_before_level    0\n",
       "event.its.properties.i_after_level     0\n",
       "user.id                                0\n",
       "dtype: int64"
      ]
     },
     "execution_count": 6,
     "metadata": {},
     "output_type": "execute_result"
    }
   ],
   "source": [
    "df.isnull().sum()"
   ]
  },
  {
   "cell_type": "code",
   "execution_count": 7,
   "id": "c1e7f585",
   "metadata": {},
   "outputs": [
    {
     "name": "stdout",
     "output_type": "stream",
     "text": [
      "column deleted: []\n"
     ]
    },
    {
     "data": {
      "text/plain": [
       "(6820891, 4)"
      ]
     },
     "execution_count": 7,
     "metadata": {},
     "output_type": "execute_result"
    }
   ],
   "source": [
    "null_ratio = df.isnull().mean()\n",
    "cols_to_drop = null_ratio[null_ratio > 0.95].index\n",
    "print(\"column deleted:\", list(cols_to_drop))\n",
    "df = df.drop(columns=cols_to_drop)\n",
    "df.shape"
   ]
  },
  {
   "cell_type": "code",
   "execution_count": 8,
   "id": "755f9380",
   "metadata": {},
   "outputs": [
    {
     "data": {
      "text/plain": [
       "(6820891, 4)"
      ]
     },
     "execution_count": 8,
     "metadata": {},
     "output_type": "execute_result"
    }
   ],
   "source": [
    "df['@timestamp'] = pd.to_datetime(df['@timestamp'], errors='coerce', utc=True)\n",
    "df.shape"
   ]
  },
  {
   "cell_type": "code",
   "execution_count": 9,
   "id": "6fbe0b39",
   "metadata": {},
   "outputs": [
    {
     "data": {
      "text/plain": [
       "55138"
      ]
     },
     "execution_count": 9,
     "metadata": {},
     "output_type": "execute_result"
    }
   ],
   "source": [
    "len(df['user.id'].unique())"
   ]
  },
  {
   "cell_type": "markdown",
   "id": "d69ecc2d",
   "metadata": {},
   "source": [
    "#### **Visualize**"
   ]
  },
  {
   "cell_type": "code",
   "execution_count": 10,
   "id": "f1276b27",
   "metadata": {},
   "outputs": [],
   "source": [
    "# user_id = 2206111830413361\n",
    "# df_user = df[df['user.id'] == user_id].copy()\n",
    "\n",
    "# df_user['level_change'] = df_user['event.its.properties.i_after_level'] - df_user['event.its.properties.i_before_level']\n",
    "\n",
    "# plt.figure(figsize=(8,5))\n",
    "# df_user['level_change'].value_counts().sort_index().plot(kind='bar', color='skyblue')\n",
    "# plt.title(f'Num changes of user {user_id}')\n",
    "# plt.xlabel('Level change (after - before)')\n",
    "# plt.ylabel('Times')\n",
    "# plt.grid(axis='y')\n",
    "# plt.tight_layout()\n",
    "# plt.show()"
   ]
  },
  {
   "cell_type": "code",
   "execution_count": null,
   "id": "5c240be5",
   "metadata": {},
   "outputs": [],
   "source": []
  },
  {
   "cell_type": "markdown",
   "id": "8c56ab46",
   "metadata": {},
   "source": [
    "#### **Create features**"
   ]
  },
  {
   "cell_type": "code",
   "execution_count": 11,
   "id": "3bcdc9f1",
   "metadata": {},
   "outputs": [],
   "source": [
    "data=df\n",
    "data = data.rename({'user.id': 'vopenid'}, axis=1)\n",
    "now = pd.Timestamp('2025-06-26 00:00:00', tz='UTC') "
   ]
  },
  {
   "cell_type": "code",
   "execution_count": 12,
   "id": "46689068",
   "metadata": {},
   "outputs": [],
   "source": [
    "# time update\n",
    "def last_update_time(group):\n",
    "    last_time = group['@timestamp'].max()\n",
    "    return {\n",
    "        'last_update_time': last_time\n",
    "    }"
   ]
  },
  {
   "cell_type": "code",
   "execution_count": 13,
   "id": "e5746933",
   "metadata": {},
   "outputs": [],
   "source": [
    "# number enhance\n",
    "def total_attempts(group):\n",
    "    return {\n",
    "        'total_attempts': len(group)\n",
    "    }"
   ]
  },
  {
   "cell_type": "code",
   "execution_count": 14,
   "id": "a48a4578",
   "metadata": {},
   "outputs": [],
   "source": [
    "# total success enhance\n",
    "def total_success_wt(group):\n",
    "    success = (group['event.its.properties.i_after_level'] > group['event.its.properties.i_before_level']).sum()\n",
    "    return {\n",
    "        'total_success_wt': success\n",
    "    }"
   ]
  },
  {
   "cell_type": "code",
   "execution_count": 15,
   "id": "15a3b328",
   "metadata": {},
   "outputs": [],
   "source": [
    "# rate success enhance\n",
    "def equipenhance_lucky(group):\n",
    "    total = len(group)\n",
    "    success = (group['event.its.properties.i_after_level'] > group['event.its.properties.i_before_level']).sum()\n",
    "    return {\n",
    "        'equipenhance_lucky': success / total if total > 0 else 0\n",
    "    }"
   ]
  },
  {
   "cell_type": "code",
   "execution_count": 16,
   "id": "7b163df3",
   "metadata": {},
   "outputs": [],
   "source": [
    "# streak fail longest\n",
    "def max_consecutive_failures(group):\n",
    "    fails = (group['event.its.properties.i_after_level'] <= group['event.its.properties.i_before_level']).tolist()\n",
    "    max_fail = 0\n",
    "    current = 0\n",
    "    for f in fails:\n",
    "        if f:\n",
    "            current += 1\n",
    "            if current > max_fail:\n",
    "                max_fail = current\n",
    "        else:\n",
    "            current = 0\n",
    "    return {\n",
    "        'max_consecutive_failures': max_fail\n",
    "    }\n"
   ]
  },
  {
   "cell_type": "code",
   "execution_count": 17,
   "id": "9bbb3fb7",
   "metadata": {},
   "outputs": [],
   "source": [
    "features_function=[\n",
    "   last_update_time,\n",
    "   total_attempts,\n",
    "   total_success_wt,\n",
    "   equipenhance_lucky,\n",
    "   max_consecutive_failures,\n",
    "]"
   ]
  },
  {
   "cell_type": "code",
   "execution_count": 18,
   "id": "185053f6",
   "metadata": {},
   "outputs": [
    {
     "name": "stderr",
     "output_type": "stream",
     "text": [
      "C:\\Users\\GOSU.GOSU-TT-ZION1\\AppData\\Local\\Temp\\ipykernel_17456\\3747869921.py:10: DeprecationWarning: DataFrameGroupBy.apply operated on the grouping columns. This behavior is deprecated, and in a future version of pandas the grouping columns will be excluded from the operation. Either pass `include_groups=False` to exclude the groupings or explicitly select the grouping columns after groupby to silence this warning.\n",
      "  df_res = data.groupby('vopenid').apply(extract_group_features).reset_index()\n"
     ]
    },
    {
     "data": {
      "text/html": [
       "<div>\n",
       "<style scoped>\n",
       "    .dataframe tbody tr th:only-of-type {\n",
       "        vertical-align: middle;\n",
       "    }\n",
       "\n",
       "    .dataframe tbody tr th {\n",
       "        vertical-align: top;\n",
       "    }\n",
       "\n",
       "    .dataframe thead th {\n",
       "        text-align: right;\n",
       "    }\n",
       "</style>\n",
       "<table border=\"1\" class=\"dataframe\">\n",
       "  <thead>\n",
       "    <tr style=\"text-align: right;\">\n",
       "      <th></th>\n",
       "      <th>vopenid</th>\n",
       "      <th>last_update_time</th>\n",
       "      <th>total_attempts</th>\n",
       "      <th>total_success_wt</th>\n",
       "      <th>equipenhance_lucky</th>\n",
       "      <th>max_consecutive_failures</th>\n",
       "    </tr>\n",
       "  </thead>\n",
       "  <tbody>\n",
       "    <tr>\n",
       "      <th>0</th>\n",
       "      <td>2206111808105074</td>\n",
       "      <td>2025-06-15 14:53:06+00:00</td>\n",
       "      <td>2</td>\n",
       "      <td>2</td>\n",
       "      <td>1.00</td>\n",
       "      <td>0</td>\n",
       "    </tr>\n",
       "    <tr>\n",
       "      <th>1</th>\n",
       "      <td>2206111830413361</td>\n",
       "      <td>2025-06-16 06:01:59+00:00</td>\n",
       "      <td>79</td>\n",
       "      <td>51</td>\n",
       "      <td>0.65</td>\n",
       "      <td>5</td>\n",
       "    </tr>\n",
       "    <tr>\n",
       "      <th>2</th>\n",
       "      <td>2206112142566650</td>\n",
       "      <td>2025-06-17 03:34:01+00:00</td>\n",
       "      <td>14</td>\n",
       "      <td>11</td>\n",
       "      <td>0.79</td>\n",
       "      <td>1</td>\n",
       "    </tr>\n",
       "    <tr>\n",
       "      <th>3</th>\n",
       "      <td>2206131428405180</td>\n",
       "      <td>2025-06-13 03:56:37+00:00</td>\n",
       "      <td>1</td>\n",
       "      <td>1</td>\n",
       "      <td>1.00</td>\n",
       "      <td>0</td>\n",
       "    </tr>\n",
       "    <tr>\n",
       "      <th>4</th>\n",
       "      <td>2206141543270674</td>\n",
       "      <td>2025-06-10 14:35:30+00:00</td>\n",
       "      <td>2</td>\n",
       "      <td>0</td>\n",
       "      <td>0.00</td>\n",
       "      <td>2</td>\n",
       "    </tr>\n",
       "    <tr>\n",
       "      <th>...</th>\n",
       "      <td>...</td>\n",
       "      <td>...</td>\n",
       "      <td>...</td>\n",
       "      <td>...</td>\n",
       "      <td>...</td>\n",
       "      <td>...</td>\n",
       "    </tr>\n",
       "    <tr>\n",
       "      <th>55133</th>\n",
       "      <td>6220001341173</td>\n",
       "      <td>2025-06-08 06:12:13+00:00</td>\n",
       "      <td>4</td>\n",
       "      <td>3</td>\n",
       "      <td>0.75</td>\n",
       "      <td>1</td>\n",
       "    </tr>\n",
       "    <tr>\n",
       "      <th>55134</th>\n",
       "      <td>6220001406323</td>\n",
       "      <td>2025-06-17 14:14:40+00:00</td>\n",
       "      <td>5</td>\n",
       "      <td>2</td>\n",
       "      <td>0.40</td>\n",
       "      <td>2</td>\n",
       "    </tr>\n",
       "    <tr>\n",
       "      <th>55135</th>\n",
       "      <td>6220001449993</td>\n",
       "      <td>2025-06-13 07:30:53+00:00</td>\n",
       "      <td>4</td>\n",
       "      <td>3</td>\n",
       "      <td>0.75</td>\n",
       "      <td>1</td>\n",
       "    </tr>\n",
       "    <tr>\n",
       "      <th>55136</th>\n",
       "      <td>chungminhde</td>\n",
       "      <td>2025-06-18 11:14:52+00:00</td>\n",
       "      <td>16</td>\n",
       "      <td>11</td>\n",
       "      <td>0.69</td>\n",
       "      <td>2</td>\n",
       "    </tr>\n",
       "    <tr>\n",
       "      <th>55137</th>\n",
       "      <td>lkeu</td>\n",
       "      <td>2025-06-18 07:31:57+00:00</td>\n",
       "      <td>1</td>\n",
       "      <td>0</td>\n",
       "      <td>0.00</td>\n",
       "      <td>1</td>\n",
       "    </tr>\n",
       "  </tbody>\n",
       "</table>\n",
       "<p>55138 rows × 6 columns</p>\n",
       "</div>"
      ],
      "text/plain": [
       "                vopenid          last_update_time  total_attempts  \\\n",
       "0      2206111808105074 2025-06-15 14:53:06+00:00               2   \n",
       "1      2206111830413361 2025-06-16 06:01:59+00:00              79   \n",
       "2      2206112142566650 2025-06-17 03:34:01+00:00              14   \n",
       "3      2206131428405180 2025-06-13 03:56:37+00:00               1   \n",
       "4      2206141543270674 2025-06-10 14:35:30+00:00               2   \n",
       "...                 ...                       ...             ...   \n",
       "55133     6220001341173 2025-06-08 06:12:13+00:00               4   \n",
       "55134     6220001406323 2025-06-17 14:14:40+00:00               5   \n",
       "55135     6220001449993 2025-06-13 07:30:53+00:00               4   \n",
       "55136       chungminhde 2025-06-18 11:14:52+00:00              16   \n",
       "55137              lkeu 2025-06-18 07:31:57+00:00               1   \n",
       "\n",
       "       total_success_wt  equipenhance_lucky  max_consecutive_failures  \n",
       "0                     2                1.00                         0  \n",
       "1                    51                0.65                         5  \n",
       "2                    11                0.79                         1  \n",
       "3                     1                1.00                         0  \n",
       "4                     0                0.00                         2  \n",
       "...                 ...                 ...                       ...  \n",
       "55133                 3                0.75                         1  \n",
       "55134                 2                0.40                         2  \n",
       "55135                 3                0.75                         1  \n",
       "55136                11                0.69                         2  \n",
       "55137                 0                0.00                         1  \n",
       "\n",
       "[55138 rows x 6 columns]"
      ]
     },
     "execution_count": 18,
     "metadata": {},
     "output_type": "execute_result"
    }
   ],
   "source": [
    "def extract_group_features(group):\n",
    "    result={}\n",
    "    for func in features_function:\n",
    "        try:\n",
    "            result.update(func(group))\n",
    "        except Exception as e:\n",
    "            print(f\"Error at feature: {func}. Error: {e}\")\n",
    "    return pd.Series(result)\n",
    "\n",
    "df_res = data.groupby('vopenid').apply(extract_group_features).reset_index()\n",
    "df_res"
   ]
  },
  {
   "cell_type": "code",
   "execution_count": 20,
   "id": "1e8f6d22",
   "metadata": {},
   "outputs": [],
   "source": [
    "df_res.to_csv(\"data/equipenhance_transform.csv\",index=False, header=True)"
   ]
  },
  {
   "cell_type": "code",
   "execution_count": null,
   "id": "4842d7fc",
   "metadata": {},
   "outputs": [],
   "source": []
  }
 ],
 "metadata": {
  "kernelspec": {
   "display_name": "Python 3",
   "language": "python",
   "name": "python3"
  },
  "language_info": {
   "codemirror_mode": {
    "name": "ipython",
    "version": 3
   },
   "file_extension": ".py",
   "mimetype": "text/x-python",
   "name": "python",
   "nbconvert_exporter": "python",
   "pygments_lexer": "ipython3",
   "version": "3.12.6"
  }
 },
 "nbformat": 4,
 "nbformat_minor": 5
}
