{
 "cells": [
  {
   "cell_type": "code",
   "execution_count": 1,
   "id": "6232523c",
   "metadata": {},
   "outputs": [],
   "source": [
    "import pandas as pd\n",
    "import numpy as np\n",
    "import matplotlib.pyplot as plt\n",
    "import seaborn as sns\n"
   ]
  },
  {
   "cell_type": "code",
   "execution_count": 2,
   "id": "97d7709c",
   "metadata": {},
   "outputs": [],
   "source": [
    "df_login=pd.read_csv(\"../EDA_transform/data/login_transform.csv\",dtype={'vopenid':'object'})\n",
    "df_purchase=pd.read_csv(\"../EDA_transform/data/purchase_transform.csv\",dtype={'vopenid':'object'})\n",
    "df_equip=pd.read_csv(\"../EDA_transform/data/equipenhance_transform_cluster.csv\",dtype={'vopenid':'object'})"
   ]
  },
  {
   "cell_type": "code",
   "execution_count": 3,
   "id": "3d314b2e",
   "metadata": {},
   "outputs": [
    {
     "name": "stdout",
     "output_type": "stream",
     "text": [
      "<class 'pandas.core.frame.DataFrame'>\n",
      "RangeIndex: 217072 entries, 0 to 217071\n",
      "Data columns (total 39 columns):\n",
      " #   Column                   Non-Null Count   Dtype  \n",
      "---  ------                   --------------   -----  \n",
      " 0   vopenid                  217072 non-null  object \n",
      " 1   duration                 217072 non-null  int64  \n",
      " 2   event                    217072 non-null  int64  \n",
      " 3   first_login_date         217072 non-null  object \n",
      " 4   last_login_date          217072 non-null  object \n",
      " 5   last_update_time         217072 non-null  object \n",
      " 6   num_day_login            217072 non-null  int64  \n",
      " 7   num_session_on_day       217072 non-null  float64\n",
      " 8   avg_between_login        217072 non-null  float64\n",
      " 9   streak_login             217072 non-null  int64  \n",
      " 10  last_since_from_login    217072 non-null  int64  \n",
      " 11  popular_time_login       217072 non-null  int64  \n",
      " 12  gold_std_login           217072 non-null  float64\n",
      " 13  diamond_std_login        217072 non-null  float64\n",
      " 14  silkcoin_std_login       217072 non-null  float64\n",
      " 15  gold_slope_login         217072 non-null  float64\n",
      " 16  diamond_slope_login      217072 non-null  float64\n",
      " 17  silkcoin_slope_login     217072 non-null  float64\n",
      " 18  gold_first               217072 non-null  int64  \n",
      " 19  gold_last                217072 non-null  int64  \n",
      " 20  gold_net_per_login       217072 non-null  float64\n",
      " 21  gold_max                 217072 non-null  int64  \n",
      " 22  gold_min                 217072 non-null  int64  \n",
      " 23  gold_trend_strength      217072 non-null  float64\n",
      " 24  diamond_first            217072 non-null  int64  \n",
      " 25  diamond_last             217072 non-null  int64  \n",
      " 26  diamond_net_per_login    217072 non-null  float64\n",
      " 27  diamond_max              217072 non-null  int64  \n",
      " 28  diamond_min              217072 non-null  int64  \n",
      " 29  diamond_trend_strength   217072 non-null  float64\n",
      " 30  silkcoin_first           217072 non-null  int64  \n",
      " 31  silkcoin_last            217072 non-null  int64  \n",
      " 32  silkcoin_net_per_login   217072 non-null  float64\n",
      " 33  silkcoin_max             217072 non-null  int64  \n",
      " 34  silkcoin_min             217072 non-null  int64  \n",
      " 35  silkcoin_trend_strength  217072 non-null  float64\n",
      " 36  powerpoint_last_login    217072 non-null  int64  \n",
      " 37  level_last_login         217072 non-null  int64  \n",
      " 38  vip_last_login           217072 non-null  int64  \n",
      "dtypes: float64(14), int64(21), object(4)\n",
      "memory usage: 64.6+ MB\n"
     ]
    }
   ],
   "source": [
    "df_login.info()"
   ]
  },
  {
   "cell_type": "code",
   "execution_count": 4,
   "id": "14fb082d",
   "metadata": {},
   "outputs": [
    {
     "name": "stdout",
     "output_type": "stream",
     "text": [
      "<class 'pandas.core.frame.DataFrame'>\n",
      "RangeIndex: 37259 entries, 0 to 37258\n",
      "Data columns (total 9 columns):\n",
      " #   Column                    Non-Null Count  Dtype  \n",
      "---  ------                    --------------  -----  \n",
      " 0   vopenid                   37259 non-null  object \n",
      " 1   last_update_time          37259 non-null  object \n",
      " 2   num_purchase              37259 non-null  int64  \n",
      " 3   total_purchase            37259 non-null  float64\n",
      " 4   count_purchase_per_day    37259 non-null  float64\n",
      " 5   std_amount_purchase       37259 non-null  float64\n",
      " 6   max_purchase              37259 non-null  float64\n",
      " 7   days_since_last_purchase  37259 non-null  int64  \n",
      " 8   num_product_buyed         37259 non-null  int64  \n",
      "dtypes: float64(4), int64(3), object(2)\n",
      "memory usage: 2.6+ MB\n"
     ]
    }
   ],
   "source": [
    "df_purchase.info()"
   ]
  },
  {
   "cell_type": "code",
   "execution_count": 5,
   "id": "bf1bd97a",
   "metadata": {},
   "outputs": [
    {
     "name": "stdout",
     "output_type": "stream",
     "text": [
      "<class 'pandas.core.frame.DataFrame'>\n",
      "RangeIndex: 55138 entries, 0 to 55137\n",
      "Data columns (total 10 columns):\n",
      " #   Column                Non-Null Count  Dtype  \n",
      "---  ------                --------------  -----  \n",
      " 0   vopenid               55138 non-null  object \n",
      " 1   last_update_time      55138 non-null  object \n",
      " 2   num_enhance           55138 non-null  int64  \n",
      " 3   enhance_success_rate  55138 non-null  float64\n",
      " 4   max_enhance_level     55138 non-null  int64  \n",
      " 5   tsne_1                55138 non-null  float64\n",
      " 6   tsne_2                55138 non-null  float64\n",
      " 7   tsne_gmm_1            55138 non-null  float64\n",
      " 8   tsne_gmm_2            55138 non-null  float64\n",
      " 9   equi_beha             55138 non-null  object \n",
      "dtypes: float64(5), int64(2), object(3)\n",
      "memory usage: 4.2+ MB\n"
     ]
    }
   ],
   "source": [
    "df_equip.info()"
   ]
  },
  {
   "cell_type": "code",
   "execution_count": 6,
   "id": "b901353a",
   "metadata": {},
   "outputs": [],
   "source": [
    "df_merged = (\n",
    "    df_login\n",
    "    .merge(df_purchase, how='left', on=['vopenid'])\n",
    "    .merge(df_equip, how='left', on=['vopenid'])\n",
    ")"
   ]
  },
  {
   "cell_type": "code",
   "execution_count": 7,
   "id": "3f17ad9b",
   "metadata": {},
   "outputs": [
    {
     "name": "stdout",
     "output_type": "stream",
     "text": [
      "<class 'pandas.core.frame.DataFrame'>\n",
      "RangeIndex: 217072 entries, 0 to 217071\n",
      "Data columns (total 56 columns):\n",
      " #   Column                    Non-Null Count   Dtype  \n",
      "---  ------                    --------------   -----  \n",
      " 0   vopenid                   217072 non-null  object \n",
      " 1   duration                  217072 non-null  int64  \n",
      " 2   event                     217072 non-null  int64  \n",
      " 3   first_login_date          217072 non-null  object \n",
      " 4   last_login_date           217072 non-null  object \n",
      " 5   last_update_time_x        217072 non-null  object \n",
      " 6   num_day_login             217072 non-null  int64  \n",
      " 7   num_session_on_day        217072 non-null  float64\n",
      " 8   avg_between_login         217072 non-null  float64\n",
      " 9   streak_login              217072 non-null  int64  \n",
      " 10  last_since_from_login     217072 non-null  int64  \n",
      " 11  popular_time_login        217072 non-null  int64  \n",
      " 12  gold_std_login            217072 non-null  float64\n",
      " 13  diamond_std_login         217072 non-null  float64\n",
      " 14  silkcoin_std_login        217072 non-null  float64\n",
      " 15  gold_slope_login          217072 non-null  float64\n",
      " 16  diamond_slope_login       217072 non-null  float64\n",
      " 17  silkcoin_slope_login      217072 non-null  float64\n",
      " 18  gold_first                217072 non-null  int64  \n",
      " 19  gold_last                 217072 non-null  int64  \n",
      " 20  gold_net_per_login        217072 non-null  float64\n",
      " 21  gold_max                  217072 non-null  int64  \n",
      " 22  gold_min                  217072 non-null  int64  \n",
      " 23  gold_trend_strength       217072 non-null  float64\n",
      " 24  diamond_first             217072 non-null  int64  \n",
      " 25  diamond_last              217072 non-null  int64  \n",
      " 26  diamond_net_per_login     217072 non-null  float64\n",
      " 27  diamond_max               217072 non-null  int64  \n",
      " 28  diamond_min               217072 non-null  int64  \n",
      " 29  diamond_trend_strength    217072 non-null  float64\n",
      " 30  silkcoin_first            217072 non-null  int64  \n",
      " 31  silkcoin_last             217072 non-null  int64  \n",
      " 32  silkcoin_net_per_login    217072 non-null  float64\n",
      " 33  silkcoin_max              217072 non-null  int64  \n",
      " 34  silkcoin_min              217072 non-null  int64  \n",
      " 35  silkcoin_trend_strength   217072 non-null  float64\n",
      " 36  powerpoint_last_login     217072 non-null  int64  \n",
      " 37  level_last_login          217072 non-null  int64  \n",
      " 38  vip_last_login            217072 non-null  int64  \n",
      " 39  last_update_time_y        37198 non-null   object \n",
      " 40  num_purchase              37198 non-null   float64\n",
      " 41  total_purchase            37198 non-null   float64\n",
      " 42  count_purchase_per_day    37198 non-null   float64\n",
      " 43  std_amount_purchase       37198 non-null   float64\n",
      " 44  max_purchase              37198 non-null   float64\n",
      " 45  days_since_last_purchase  37198 non-null   float64\n",
      " 46  num_product_buyed         37198 non-null   float64\n",
      " 47  last_update_time          55116 non-null   object \n",
      " 48  num_enhance               55116 non-null   float64\n",
      " 49  enhance_success_rate      55116 non-null   float64\n",
      " 50  max_enhance_level         55116 non-null   float64\n",
      " 51  tsne_1                    55116 non-null   float64\n",
      " 52  tsne_2                    55116 non-null   float64\n",
      " 53  tsne_gmm_1                55116 non-null   float64\n",
      " 54  tsne_gmm_2                55116 non-null   float64\n",
      " 55  equi_beha                 55116 non-null   object \n",
      "dtypes: float64(28), int64(21), object(7)\n",
      "memory usage: 92.7+ MB\n"
     ]
    }
   ],
   "source": [
    "df_merged.info()"
   ]
  },
  {
   "cell_type": "code",
   "execution_count": 8,
   "id": "a5ef7456",
   "metadata": {},
   "outputs": [
    {
     "data": {
      "text/plain": [
       "Index(['vopenid', 'duration', 'first_login_date', 'last_login_date',\n",
       "       'num_day_login', 'num_session_on_day', 'avg_between_login',\n",
       "       'streak_login', 'last_since_from_login', 'popular_time_login',\n",
       "       'gold_std_login', 'diamond_std_login', 'silkcoin_std_login', 'gold_max',\n",
       "       'gold_min', 'gold_trend_strength', 'diamond_max', 'diamond_min',\n",
       "       'diamond_trend_strength', 'silkcoin_max', 'silkcoin_min',\n",
       "       'silkcoin_trend_strength', 'powerpoint_last_login', 'level_last_login',\n",
       "       'vip_last_login', 'num_purchase', 'total_purchase',\n",
       "       'count_purchase_per_day', 'std_amount_purchase', 'max_purchase',\n",
       "       'days_since_last_purchase', 'num_product_buyed', 'num_enhance',\n",
       "       'enhance_success_rate', 'max_enhance_level'],\n",
       "      dtype='object')"
      ]
     },
     "execution_count": 8,
     "metadata": {},
     "output_type": "execute_result"
    }
   ],
   "source": [
    "drop_columns=[\n",
    "            'event',\n",
    "            'last_update_time_x',\n",
    "            'last_update_time_y',\n",
    "            'gold_slope_login',\n",
    "            'diamond_slope_login',\n",
    "            'silkcoin_slope_login',\n",
    "            'gold_first',\n",
    "            'gold_last',\n",
    "            'diamond_first',\n",
    "            'diamond_last',\n",
    "            'silkcoin_first',\n",
    "            'silkcoin_last',\n",
    "            'gold_net_per_login',\n",
    "            'diamond_net_per_login',\n",
    "            'silkcoin_net_per_login',\n",
    "            'last_update_time',\n",
    "            'tsne_1',\n",
    "            'tsne_2',\n",
    "            'tsne_gmm_1',\n",
    "            'tsne_gmm_2',\n",
    "            'equi_beha',\n",
    "        ]\n",
    "df_merged=df_merged.drop(columns=drop_columns,axis=1)\n",
    "df_merged.columns"
   ]
  },
  {
   "cell_type": "code",
   "execution_count": 9,
   "id": "a072333c",
   "metadata": {},
   "outputs": [],
   "source": [
    "df_merged.rename({\n",
    "    'num_session_on_day': 'login_frequency',\n",
    "    'count_purchase_per_day': 'purchase_frequency'\n",
    "}, axis=1, inplace=True)\n"
   ]
  },
  {
   "cell_type": "code",
   "execution_count": 10,
   "id": "740ecee7",
   "metadata": {},
   "outputs": [],
   "source": [
    "df_merged['days_since_last_purchase'] = df_merged['days_since_last_purchase'].fillna(df_merged['num_day_login'].max())"
   ]
  },
  {
   "cell_type": "code",
   "execution_count": 11,
   "id": "fcf59de5",
   "metadata": {},
   "outputs": [],
   "source": [
    "df_merged = df_merged.fillna({\n",
    "    'num_enhance': 0,\n",
    "    'enhance_success_rate': 0,\n",
    "    'max_enhance_level': 0,\n",
    "})"
   ]
  },
  {
   "cell_type": "code",
   "execution_count": 12,
   "id": "92f7ec00",
   "metadata": {},
   "outputs": [],
   "source": [
    "df_merged.fillna(0,inplace=True)"
   ]
  },
  {
   "cell_type": "code",
   "execution_count": 13,
   "id": "264c9b7b",
   "metadata": {},
   "outputs": [
    {
     "data": {
      "text/plain": [
       "vopenid                     0\n",
       "duration                    0\n",
       "first_login_date            0\n",
       "last_login_date             0\n",
       "num_day_login               0\n",
       "login_frequency             0\n",
       "avg_between_login           0\n",
       "streak_login                0\n",
       "last_since_from_login       0\n",
       "popular_time_login          0\n",
       "gold_std_login              0\n",
       "diamond_std_login           0\n",
       "silkcoin_std_login          0\n",
       "gold_max                    0\n",
       "gold_min                    0\n",
       "gold_trend_strength         0\n",
       "diamond_max                 0\n",
       "diamond_min                 0\n",
       "diamond_trend_strength      0\n",
       "silkcoin_max                0\n",
       "silkcoin_min                0\n",
       "silkcoin_trend_strength     0\n",
       "powerpoint_last_login       0\n",
       "level_last_login            0\n",
       "vip_last_login              0\n",
       "num_purchase                0\n",
       "total_purchase              0\n",
       "purchase_frequency          0\n",
       "std_amount_purchase         0\n",
       "max_purchase                0\n",
       "days_since_last_purchase    0\n",
       "num_product_buyed           0\n",
       "num_enhance                 0\n",
       "enhance_success_rate        0\n",
       "max_enhance_level           0\n",
       "dtype: int64"
      ]
     },
     "execution_count": 13,
     "metadata": {},
     "output_type": "execute_result"
    }
   ],
   "source": [
    "df_merged.isnull().sum()"
   ]
  },
  {
   "cell_type": "code",
   "execution_count": 14,
   "id": "171ba685",
   "metadata": {},
   "outputs": [],
   "source": [
    "df_merged.to_csv(\"data/data_clustering_combined.csv\",index=False,header=True)"
   ]
  },
  {
   "cell_type": "code",
   "execution_count": null,
   "id": "13df1fd4",
   "metadata": {},
   "outputs": [],
   "source": []
  },
  {
   "cell_type": "code",
   "execution_count": null,
   "id": "c99e91c0",
   "metadata": {},
   "outputs": [],
   "source": []
  },
  {
   "cell_type": "code",
   "execution_count": null,
   "id": "d4b8a4e1",
   "metadata": {},
   "outputs": [],
   "source": []
  }
 ],
 "metadata": {
  "kernelspec": {
   "display_name": "Python 3",
   "language": "python",
   "name": "python3"
  },
  "language_info": {
   "codemirror_mode": {
    "name": "ipython",
    "version": 3
   },
   "file_extension": ".py",
   "mimetype": "text/x-python",
   "name": "python",
   "nbconvert_exporter": "python",
   "pygments_lexer": "ipython3",
   "version": "3.12.6"
  }
 },
 "nbformat": 4,
 "nbformat_minor": 5
}
