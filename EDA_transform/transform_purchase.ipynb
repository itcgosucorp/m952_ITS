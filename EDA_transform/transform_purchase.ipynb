{
 "cells": [
  {
   "cell_type": "markdown",
   "id": "2479dca0",
   "metadata": {},
   "source": [
    "<div style=\"color:#007acc; text-align:center; font-size:32px; font-weight:bold; font-family:Arial, sans-serif;\">\n",
    "  Explore Data Analysis and Transform Purchase Log Data\n",
    "</div>"
   ]
  },
  {
   "cell_type": "code",
   "execution_count": 1,
   "id": "63563afb",
   "metadata": {},
   "outputs": [],
   "source": [
    "import pandas as pd\n",
    "import numpy as np\n",
    "import matplotlib.pyplot as plt\n",
    "import seaborn as sns\n",
    "\n",
    "pd.set_option('display.max_colwidth', None)\n",
    "pd.set_option('display.max_columns',None)\n",
    "pd.set_option('display.float_format', lambda x: '%.2f' % x)"
   ]
  },
  {
   "cell_type": "code",
   "execution_count": 2,
   "id": "c0474204",
   "metadata": {},
   "outputs": [
    {
     "data": {
      "text/html": [
       "<div>\n",
       "<style scoped>\n",
       "    .dataframe tbody tr th:only-of-type {\n",
       "        vertical-align: middle;\n",
       "    }\n",
       "\n",
       "    .dataframe tbody tr th {\n",
       "        vertical-align: top;\n",
       "    }\n",
       "\n",
       "    .dataframe thead th {\n",
       "        text-align: right;\n",
       "    }\n",
       "</style>\n",
       "<table border=\"1\" class=\"dataframe\">\n",
       "  <thead>\n",
       "    <tr style=\"text-align: right;\">\n",
       "      <th></th>\n",
       "      <th>@timestamp</th>\n",
       "      <th>user.id</th>\n",
       "      <th>event.its.properties.product_name</th>\n",
       "      <th>event.its.properties.payment_amount</th>\n",
       "    </tr>\n",
       "  </thead>\n",
       "  <tbody>\n",
       "    <tr>\n",
       "      <th>0</th>\n",
       "      <td>2025-05-03T17:01:07.520Z</td>\n",
       "      <td>2503172237563165</td>\n",
       "      <td>100 Silk</td>\n",
       "      <td>3.15</td>\n",
       "    </tr>\n",
       "    <tr>\n",
       "      <th>1</th>\n",
       "      <td>2025-05-03T17:02:54.145Z</td>\n",
       "      <td>2504170554317738</td>\n",
       "      <td>RechargeTable_Name_43</td>\n",
       "      <td>1.99</td>\n",
       "    </tr>\n",
       "    <tr>\n",
       "      <th>2</th>\n",
       "      <td>2025-05-03T17:03:04.790Z</td>\n",
       "      <td>2504272106196331</td>\n",
       "      <td>com.silkroad.pack.fund</td>\n",
       "      <td>19.99</td>\n",
       "    </tr>\n",
       "    <tr>\n",
       "      <th>3</th>\n",
       "      <td>2025-05-03T17:06:56.892Z</td>\n",
       "      <td>2505032027308646</td>\n",
       "      <td>com.silkroad.pack.50silk</td>\n",
       "      <td>1.99</td>\n",
       "    </tr>\n",
       "    <tr>\n",
       "      <th>4</th>\n",
       "      <td>2025-05-03T17:09:46.142Z</td>\n",
       "      <td>2504180826237541</td>\n",
       "      <td>com.silkroad.pack.250diamond</td>\n",
       "      <td>9.99</td>\n",
       "    </tr>\n",
       "    <tr>\n",
       "      <th>...</th>\n",
       "      <td>...</td>\n",
       "      <td>...</td>\n",
       "      <td>...</td>\n",
       "      <td>...</td>\n",
       "    </tr>\n",
       "    <tr>\n",
       "      <th>76870</th>\n",
       "      <td>2025-06-18T16:58:46.908Z</td>\n",
       "      <td>2506102314529161</td>\n",
       "      <td>PremiumCard</td>\n",
       "      <td>7.50</td>\n",
       "    </tr>\n",
       "    <tr>\n",
       "      <th>76871</th>\n",
       "      <td>2025-06-18T16:58:59.632Z</td>\n",
       "      <td>2410151459288157</td>\n",
       "      <td>InvestmentFund</td>\n",
       "      <td>15.75</td>\n",
       "    </tr>\n",
       "    <tr>\n",
       "      <th>76872</th>\n",
       "      <td>2025-06-18T16:59:22.964Z</td>\n",
       "      <td>2506102314566631</td>\n",
       "      <td>PremiumCard</td>\n",
       "      <td>7.50</td>\n",
       "    </tr>\n",
       "    <tr>\n",
       "      <th>76873</th>\n",
       "      <td>2025-06-18T16:59:54.663Z</td>\n",
       "      <td>2406181424438545</td>\n",
       "      <td>com.silkroad.pack.50diamond</td>\n",
       "      <td>1.99</td>\n",
       "    </tr>\n",
       "    <tr>\n",
       "      <th>76874</th>\n",
       "      <td>2025-06-18T16:59:55.790Z</td>\n",
       "      <td>2506102315035325</td>\n",
       "      <td>PremiumCard</td>\n",
       "      <td>7.50</td>\n",
       "    </tr>\n",
       "  </tbody>\n",
       "</table>\n",
       "<p>76875 rows × 4 columns</p>\n",
       "</div>"
      ],
      "text/plain": [
       "                     @timestamp           user.id  \\\n",
       "0      2025-05-03T17:01:07.520Z  2503172237563165   \n",
       "1      2025-05-03T17:02:54.145Z  2504170554317738   \n",
       "2      2025-05-03T17:03:04.790Z  2504272106196331   \n",
       "3      2025-05-03T17:06:56.892Z  2505032027308646   \n",
       "4      2025-05-03T17:09:46.142Z  2504180826237541   \n",
       "...                         ...               ...   \n",
       "76870  2025-06-18T16:58:46.908Z  2506102314529161   \n",
       "76871  2025-06-18T16:58:59.632Z  2410151459288157   \n",
       "76872  2025-06-18T16:59:22.964Z  2506102314566631   \n",
       "76873  2025-06-18T16:59:54.663Z  2406181424438545   \n",
       "76874  2025-06-18T16:59:55.790Z  2506102315035325   \n",
       "\n",
       "      event.its.properties.product_name  event.its.properties.payment_amount  \n",
       "0                              100 Silk                                 3.15  \n",
       "1                 RechargeTable_Name_43                                 1.99  \n",
       "2                com.silkroad.pack.fund                                19.99  \n",
       "3              com.silkroad.pack.50silk                                 1.99  \n",
       "4          com.silkroad.pack.250diamond                                 9.99  \n",
       "...                                 ...                                  ...  \n",
       "76870                       PremiumCard                                 7.50  \n",
       "76871                    InvestmentFund                                15.75  \n",
       "76872                       PremiumCard                                 7.50  \n",
       "76873       com.silkroad.pack.50diamond                                 1.99  \n",
       "76874                       PremiumCard                                 7.50  \n",
       "\n",
       "[76875 rows x 4 columns]"
      ]
     },
     "execution_count": 2,
     "metadata": {},
     "output_type": "execute_result"
    }
   ],
   "source": [
    "df=pd.read_csv(\"../ingest_from_ITS/data/m952_purchase_2025-05-04_00-00-00_to_2025-06-19_00-00-00.csv\") \n",
    "df"
   ]
  },
  {
   "cell_type": "code",
   "execution_count": 3,
   "id": "6e8d887e",
   "metadata": {},
   "outputs": [],
   "source": [
    "df['user.id']=df['user.id'].astype(str)"
   ]
  },
  {
   "cell_type": "code",
   "execution_count": 4,
   "id": "926fc740",
   "metadata": {},
   "outputs": [
    {
     "name": "stdout",
     "output_type": "stream",
     "text": [
      "<class 'pandas.core.frame.DataFrame'>\n",
      "RangeIndex: 76875 entries, 0 to 76874\n",
      "Data columns (total 4 columns):\n",
      " #   Column                               Non-Null Count  Dtype  \n",
      "---  ------                               --------------  -----  \n",
      " 0   @timestamp                           76875 non-null  object \n",
      " 1   user.id                              76875 non-null  object \n",
      " 2   event.its.properties.product_name    76875 non-null  object \n",
      " 3   event.its.properties.payment_amount  76875 non-null  float64\n",
      "dtypes: float64(1), object(3)\n",
      "memory usage: 2.3+ MB\n"
     ]
    }
   ],
   "source": [
    "df.info()"
   ]
  },
  {
   "cell_type": "code",
   "execution_count": 5,
   "id": "018d99a6",
   "metadata": {},
   "outputs": [
    {
     "data": {
      "text/html": [
       "<div>\n",
       "<style scoped>\n",
       "    .dataframe tbody tr th:only-of-type {\n",
       "        vertical-align: middle;\n",
       "    }\n",
       "\n",
       "    .dataframe tbody tr th {\n",
       "        vertical-align: top;\n",
       "    }\n",
       "\n",
       "    .dataframe thead th {\n",
       "        text-align: right;\n",
       "    }\n",
       "</style>\n",
       "<table border=\"1\" class=\"dataframe\">\n",
       "  <thead>\n",
       "    <tr style=\"text-align: right;\">\n",
       "      <th></th>\n",
       "      <th>event.its.properties.payment_amount</th>\n",
       "    </tr>\n",
       "  </thead>\n",
       "  <tbody>\n",
       "    <tr>\n",
       "      <th>count</th>\n",
       "      <td>76875.00</td>\n",
       "    </tr>\n",
       "    <tr>\n",
       "      <th>mean</th>\n",
       "      <td>10.35</td>\n",
       "    </tr>\n",
       "    <tr>\n",
       "      <th>std</th>\n",
       "      <td>13.28</td>\n",
       "    </tr>\n",
       "    <tr>\n",
       "      <th>min</th>\n",
       "      <td>-99.99</td>\n",
       "    </tr>\n",
       "    <tr>\n",
       "      <th>25%</th>\n",
       "      <td>3.99</td>\n",
       "    </tr>\n",
       "    <tr>\n",
       "      <th>50%</th>\n",
       "      <td>7.88</td>\n",
       "    </tr>\n",
       "    <tr>\n",
       "      <th>75%</th>\n",
       "      <td>15.00</td>\n",
       "    </tr>\n",
       "    <tr>\n",
       "      <th>max</th>\n",
       "      <td>360.00</td>\n",
       "    </tr>\n",
       "  </tbody>\n",
       "</table>\n",
       "</div>"
      ],
      "text/plain": [
       "       event.its.properties.payment_amount\n",
       "count                             76875.00\n",
       "mean                                 10.35\n",
       "std                                  13.28\n",
       "min                                 -99.99\n",
       "25%                                   3.99\n",
       "50%                                   7.88\n",
       "75%                                  15.00\n",
       "max                                 360.00"
      ]
     },
     "execution_count": 5,
     "metadata": {},
     "output_type": "execute_result"
    }
   ],
   "source": [
    "df.describe()"
   ]
  },
  {
   "cell_type": "code",
   "execution_count": 6,
   "id": "fc2b91f3",
   "metadata": {},
   "outputs": [
    {
     "data": {
      "text/plain": [
       "@timestamp                             0\n",
       "user.id                                0\n",
       "event.its.properties.product_name      0\n",
       "event.its.properties.payment_amount    0\n",
       "dtype: int64"
      ]
     },
     "execution_count": 6,
     "metadata": {},
     "output_type": "execute_result"
    }
   ],
   "source": [
    "df.isnull().sum()"
   ]
  },
  {
   "cell_type": "code",
   "execution_count": 7,
   "id": "77ee8620",
   "metadata": {},
   "outputs": [
    {
     "name": "stdout",
     "output_type": "stream",
     "text": [
      "column deleted: []\n"
     ]
    },
    {
     "data": {
      "text/plain": [
       "(76875, 4)"
      ]
     },
     "execution_count": 7,
     "metadata": {},
     "output_type": "execute_result"
    }
   ],
   "source": [
    "null_ratio = df.isnull().mean()\n",
    "cols_to_drop = null_ratio[null_ratio > 0.95].index\n",
    "print(\"column deleted:\", list(cols_to_drop))\n",
    "df = df.drop(columns=cols_to_drop)\n",
    "df.shape"
   ]
  },
  {
   "cell_type": "code",
   "execution_count": 8,
   "id": "efd1207b",
   "metadata": {},
   "outputs": [
    {
     "data": {
      "text/plain": [
       "(76875, 4)"
      ]
     },
     "execution_count": 8,
     "metadata": {},
     "output_type": "execute_result"
    }
   ],
   "source": [
    "df['@timestamp'] = pd.to_datetime(df['@timestamp'], errors='coerce', utc=True)\n",
    "df.shape"
   ]
  },
  {
   "cell_type": "code",
   "execution_count": 9,
   "id": "c97f259b",
   "metadata": {},
   "outputs": [
    {
     "data": {
      "text/plain": [
       "32120"
      ]
     },
     "execution_count": 9,
     "metadata": {},
     "output_type": "execute_result"
    }
   ],
   "source": [
    "len(df['user.id'].unique())"
   ]
  },
  {
   "cell_type": "code",
   "execution_count": 10,
   "id": "d773452f",
   "metadata": {},
   "outputs": [
    {
     "data": {
      "text/plain": [
       "np.float64(795437.84)"
      ]
     },
     "execution_count": 10,
     "metadata": {},
     "output_type": "execute_result"
    }
   ],
   "source": [
    "df['event.its.properties.payment_amount'].sum()"
   ]
  },
  {
   "cell_type": "code",
   "execution_count": 11,
   "id": "4748b15f",
   "metadata": {},
   "outputs": [],
   "source": [
    "df=df.rename(columns={'user.id':'vopenid'})"
   ]
  },
  {
   "cell_type": "markdown",
   "id": "7a7796d1",
   "metadata": {},
   "source": [
    "#### **Visualize**"
   ]
  },
  {
   "cell_type": "code",
   "execution_count": 12,
   "id": "5b058f1e",
   "metadata": {},
   "outputs": [
    {
     "data": {
      "image/png": "[encoded data removed]",
      "text/plain": [
       "<Figure size 1200x500 with 1 Axes>"
      ]
     },
     "metadata": {},
     "output_type": "display_data"
    }
   ],
   "source": [
    "df[\"@timestamp\"] = pd.to_datetime(df[\"@timestamp\"])\n",
    "df[\"date\"] = df[\"@timestamp\"].dt.date\n",
    "\n",
    "daily_payment = df.groupby(\"date\")[\"event.its.properties.payment_amount\"].sum()\n",
    "\n",
    "daily_payment.plot(kind=\"bar\", figsize=(12, 5), title=\"Total purchase per day\")\n",
    "plt.ylabel(\"Total purchase (USD)\")\n",
    "plt.xlabel(\"Date\")\n",
    "plt.grid(True)\n",
    "plt.tight_layout()\n",
    "plt.show()"
   ]
  },
  {
   "cell_type": "code",
   "execution_count": 13,
   "id": "3eab8319",
   "metadata": {},
   "outputs": [
    {
     "data": {
      "image/png": "[encoded data removed]",
      "text/plain": [
       "<Figure size 640x480 with 1 Axes>"
      ]
     },
     "metadata": {},
     "output_type": "display_data"
    }
   ],
   "source": [
    "top_products = df[\"event.its.properties.product_name\"].value_counts().head(10)\n",
    "top_products.plot(kind=\"bar\", title=\"Top 10 products\")\n",
    "plt.ylabel(\"Number products\")\n",
    "plt.tight_layout()\n",
    "plt.show()"
   ]
  },
  {
   "cell_type": "markdown",
   "id": "7a1a174e",
   "metadata": {},
   "source": [
    "#### **Create features**"
   ]
  },
  {
   "cell_type": "code",
   "execution_count": 14,
   "id": "c0e3ddde",
   "metadata": {},
   "outputs": [],
   "source": [
    "data=df\n",
    "# now = pd.Timestamp.now(tz='UTC')\n",
    "now = pd.Timestamp(\"2025-06-16 12:00:00\", tz=\"UTC\")"
   ]
  },
  {
   "cell_type": "code",
   "execution_count": 15,
   "id": "d1f3f4f8",
   "metadata": {},
   "outputs": [],
   "source": [
    "def last_update_time(group):\n",
    "    last_time = group['@timestamp'].max()\n",
    "    return {\n",
    "        'last_update_time': last_time\n",
    "    }"
   ]
  },
  {
   "cell_type": "code",
   "execution_count": 16,
   "id": "09cc62cd",
   "metadata": {},
   "outputs": [],
   "source": [
    "def count_purchase(group):\n",
    "    count = len(group)\n",
    "    refund_count = (group['event.its.properties.payment_amount'] < 0).sum()\n",
    "    count -= refund_count\n",
    "    return {\n",
    "        'num_purchase': max(count, 0)  \n",
    "    }"
   ]
  },
  {
   "cell_type": "code",
   "execution_count": 17,
   "id": "14a7fd25",
   "metadata": {},
   "outputs": [],
   "source": [
    "def total_money_purchase(group):\n",
    "    total=group['event.its.properties.payment_amount'].sum()\n",
    "    if total < 0:\n",
    "        total=0\n",
    "    return {\n",
    "        'total_purchase': total\n",
    "    }"
   ]
  },
  {
   "cell_type": "code",
   "execution_count": 18,
   "id": "812da339",
   "metadata": {},
   "outputs": [],
   "source": [
    "def count_purchase_per_day(group):\n",
    "    if group.empty:\n",
    "        return pd.Series({'count_purchase_per_day': 0})\n",
    "\n",
    "    group['date'] = group['@timestamp'].dt.date\n",
    "    daily_counts = group.groupby('date').size()\n",
    "\n",
    "    avg = daily_counts.mean()\n",
    "    \n",
    "    return {\n",
    "        'count_purchase_per_day': avg\n",
    "    }"
   ]
  },
  {
   "cell_type": "code",
   "execution_count": 19,
   "id": "07aac7bc",
   "metadata": {},
   "outputs": [],
   "source": [
    "def std_amount_purchase(group):\n",
    "    amounts = group['event.its.properties.payment_amount']\n",
    "    amounts = amounts[amounts >= 0]\n",
    "    \n",
    "    if len(amounts) < 2:\n",
    "        std = 0.0  \n",
    "    else:\n",
    "        std = amounts.std()\n",
    "    \n",
    "    return {\n",
    "        'std_amount_purchase': std\n",
    "    }"
   ]
  },
  {
   "cell_type": "code",
   "execution_count": 20,
   "id": "c68d933c",
   "metadata": {},
   "outputs": [],
   "source": [
    "def max_money(group):\n",
    "    max_mount=group['event.its.properties.payment_amount'].max()\n",
    "    if max_mount < 0:\n",
    "        max_mount=0\n",
    "    return {\n",
    "        'max_purchase':max_mount,\n",
    "    }"
   ]
  },
  {
   "cell_type": "code",
   "execution_count": 21,
   "id": "d30323f3",
   "metadata": {},
   "outputs": [],
   "source": [
    "def days_to_first_purchase(group):\n",
    "    login_times = group[group['event.action'] == 'its_register']['@timestamp']\n",
    "    purchase_times = group[group['event.action'] == 'its_purchase']['@timestamp']\n",
    "\n",
    "    if login_times.empty or purchase_times.empty:\n",
    "        return pd.Series({'days_to_first_purchase': pd.NA})\n",
    "\n",
    "    first_login = login_times.min()\n",
    "    first_purchase = purchase_times.min()\n",
    "    \n",
    "    return pd.Series({\n",
    "        'days_to_first_purchase': (first_purchase - first_login).days\n",
    "    })"
   ]
  },
  {
   "cell_type": "code",
   "execution_count": 22,
   "id": "cc16c32c",
   "metadata": {},
   "outputs": [],
   "source": [
    "def days_since_last_purchase(group):\n",
    "    last_time = group['@timestamp'].max()\n",
    "    return pd.Series({\n",
    "        'days_since_last_purchase': (now - last_time).days\n",
    "    })"
   ]
  },
  {
   "cell_type": "code",
   "execution_count": 23,
   "id": "8cc550eb",
   "metadata": {},
   "outputs": [],
   "source": [
    "def num_products(group):\n",
    "    try:\n",
    "        unique_products = group['event.its.properties.product_name'].nunique()\n",
    "        return {\n",
    "            'num_product_buyed': unique_products\n",
    "        }\n",
    "    except Exception as e:\n",
    "        print(f\"Error in num_products: {e}\")\n",
    "        return {\n",
    "            'num_product_buyed': 0\n",
    "        }"
   ]
  },
  {
   "cell_type": "code",
   "execution_count": null,
   "id": "e7232b94",
   "metadata": {},
   "outputs": [],
   "source": []
  },
  {
   "cell_type": "code",
   "execution_count": 24,
   "id": "f4d7d725",
   "metadata": {},
   "outputs": [],
   "source": [
    "features_function=[\n",
    "   last_update_time,\n",
    "   count_purchase,\n",
    "   total_money_purchase,\n",
    "   count_purchase_per_day,\n",
    "   std_amount_purchase,\n",
    "   max_money,\n",
    "   #days_to_first_purchase,\n",
    "   days_since_last_purchase,\n",
    "   num_products,\n",
    "]"
   ]
  },
  {
   "cell_type": "code",
   "execution_count": 25,
   "id": "bce19ffe",
   "metadata": {},
   "outputs": [
    {
     "name": "stderr",
     "output_type": "stream",
     "text": [
      "C:\\Users\\GOSU.GOSU-TT-ZION1\\AppData\\Local\\Temp\\ipykernel_19444\\3747869921.py:10: DeprecationWarning: DataFrameGroupBy.apply operated on the grouping columns. This behavior is deprecated, and in a future version of pandas the grouping columns will be excluded from the operation. Either pass `include_groups=False` to exclude the groupings or explicitly select the grouping columns after groupby to silence this warning.\n",
      "  df_res = data.groupby('vopenid').apply(extract_group_features).reset_index()\n"
     ]
    },
    {
     "data": {
      "text/html": [
       "<div>\n",
       "<style scoped>\n",
       "    .dataframe tbody tr th:only-of-type {\n",
       "        vertical-align: middle;\n",
       "    }\n",
       "\n",
       "    .dataframe tbody tr th {\n",
       "        vertical-align: top;\n",
       "    }\n",
       "\n",
       "    .dataframe thead th {\n",
       "        text-align: right;\n",
       "    }\n",
       "</style>\n",
       "<table border=\"1\" class=\"dataframe\">\n",
       "  <thead>\n",
       "    <tr style=\"text-align: right;\">\n",
       "      <th></th>\n",
       "      <th>vopenid</th>\n",
       "      <th>last_update_time</th>\n",
       "      <th>num_purchase</th>\n",
       "      <th>total_purchase</th>\n",
       "      <th>count_purchase_per_day</th>\n",
       "      <th>std_amount_purchase</th>\n",
       "      <th>max_purchase</th>\n",
       "      <th>days_since_last_purchase</th>\n",
       "      <th>num_product_buyed</th>\n",
       "    </tr>\n",
       "  </thead>\n",
       "  <tbody>\n",
       "    <tr>\n",
       "      <th>0</th>\n",
       "      <td>2206211830166192</td>\n",
       "      <td>2025-05-24 15:48:36.757000+00:00</td>\n",
       "      <td>1</td>\n",
       "      <td>0.79</td>\n",
       "      <td>1.00</td>\n",
       "      <td>0.00</td>\n",
       "      <td>0.79</td>\n",
       "      <td>22</td>\n",
       "      <td>1</td>\n",
       "    </tr>\n",
       "    <tr>\n",
       "      <th>1</th>\n",
       "      <td>2210221534402190</td>\n",
       "      <td>2025-05-26 05:14:28.541000+00:00</td>\n",
       "      <td>1</td>\n",
       "      <td>7.88</td>\n",
       "      <td>1.00</td>\n",
       "      <td>0.00</td>\n",
       "      <td>7.88</td>\n",
       "      <td>21</td>\n",
       "      <td>1</td>\n",
       "    </tr>\n",
       "    <tr>\n",
       "      <th>2</th>\n",
       "      <td>2210221828089318</td>\n",
       "      <td>2025-06-11 14:06:52.646000+00:00</td>\n",
       "      <td>2</td>\n",
       "      <td>3.98</td>\n",
       "      <td>2.00</td>\n",
       "      <td>0.00</td>\n",
       "      <td>1.99</td>\n",
       "      <td>4</td>\n",
       "      <td>2</td>\n",
       "    </tr>\n",
       "    <tr>\n",
       "      <th>3</th>\n",
       "      <td>2302080453545458</td>\n",
       "      <td>2025-05-26 03:22:07.961000+00:00</td>\n",
       "      <td>3</td>\n",
       "      <td>5.97</td>\n",
       "      <td>1.00</td>\n",
       "      <td>0.00</td>\n",
       "      <td>1.99</td>\n",
       "      <td>21</td>\n",
       "      <td>2</td>\n",
       "    </tr>\n",
       "    <tr>\n",
       "      <th>4</th>\n",
       "      <td>2302141307530184</td>\n",
       "      <td>2025-06-12 07:24:17.135000+00:00</td>\n",
       "      <td>1</td>\n",
       "      <td>1.99</td>\n",
       "      <td>1.00</td>\n",
       "      <td>0.00</td>\n",
       "      <td>1.99</td>\n",
       "      <td>4</td>\n",
       "      <td>1</td>\n",
       "    </tr>\n",
       "    <tr>\n",
       "      <th>...</th>\n",
       "      <td>...</td>\n",
       "      <td>...</td>\n",
       "      <td>...</td>\n",
       "      <td>...</td>\n",
       "      <td>...</td>\n",
       "      <td>...</td>\n",
       "      <td>...</td>\n",
       "      <td>...</td>\n",
       "      <td>...</td>\n",
       "    </tr>\n",
       "    <tr>\n",
       "      <th>32115</th>\n",
       "      <td>6210000940123</td>\n",
       "      <td>2025-06-18 07:57:22.640000+00:00</td>\n",
       "      <td>2</td>\n",
       "      <td>15.76</td>\n",
       "      <td>1.00</td>\n",
       "      <td>0.00</td>\n",
       "      <td>7.88</td>\n",
       "      <td>-2</td>\n",
       "      <td>1</td>\n",
       "    </tr>\n",
       "    <tr>\n",
       "      <th>32116</th>\n",
       "      <td>6210001017824</td>\n",
       "      <td>2025-06-17 00:00:13.016000+00:00</td>\n",
       "      <td>3</td>\n",
       "      <td>5.97</td>\n",
       "      <td>1.00</td>\n",
       "      <td>0.00</td>\n",
       "      <td>1.99</td>\n",
       "      <td>-1</td>\n",
       "      <td>1</td>\n",
       "    </tr>\n",
       "    <tr>\n",
       "      <th>32117</th>\n",
       "      <td>6210001076576</td>\n",
       "      <td>2025-05-05 18:33:57.853000+00:00</td>\n",
       "      <td>1</td>\n",
       "      <td>1.58</td>\n",
       "      <td>1.00</td>\n",
       "      <td>0.00</td>\n",
       "      <td>1.58</td>\n",
       "      <td>41</td>\n",
       "      <td>1</td>\n",
       "    </tr>\n",
       "    <tr>\n",
       "      <th>32118</th>\n",
       "      <td>6220001331202</td>\n",
       "      <td>2025-06-12 14:39:00.448000+00:00</td>\n",
       "      <td>1</td>\n",
       "      <td>1.99</td>\n",
       "      <td>1.00</td>\n",
       "      <td>0.00</td>\n",
       "      <td>1.99</td>\n",
       "      <td>3</td>\n",
       "      <td>1</td>\n",
       "    </tr>\n",
       "    <tr>\n",
       "      <th>32119</th>\n",
       "      <td>6220001449993</td>\n",
       "      <td>2025-06-12 10:49:49.725000+00:00</td>\n",
       "      <td>2</td>\n",
       "      <td>11.98</td>\n",
       "      <td>2.00</td>\n",
       "      <td>5.66</td>\n",
       "      <td>9.99</td>\n",
       "      <td>4</td>\n",
       "      <td>2</td>\n",
       "    </tr>\n",
       "  </tbody>\n",
       "</table>\n",
       "<p>32120 rows × 9 columns</p>\n",
       "</div>"
      ],
      "text/plain": [
       "                vopenid                 last_update_time  num_purchase  \\\n",
       "0      2206211830166192 2025-05-24 15:48:36.757000+00:00             1   \n",
       "1      2210221534402190 2025-05-26 05:14:28.541000+00:00             1   \n",
       "2      2210221828089318 2025-06-11 14:06:52.646000+00:00             2   \n",
       "3      2302080453545458 2025-05-26 03:22:07.961000+00:00             3   \n",
       "4      2302141307530184 2025-06-12 07:24:17.135000+00:00             1   \n",
       "...                 ...                              ...           ...   \n",
       "32115     6210000940123 2025-06-18 07:57:22.640000+00:00             2   \n",
       "32116     6210001017824 2025-06-17 00:00:13.016000+00:00             3   \n",
       "32117     6210001076576 2025-05-05 18:33:57.853000+00:00             1   \n",
       "32118     6220001331202 2025-06-12 14:39:00.448000+00:00             1   \n",
       "32119     6220001449993 2025-06-12 10:49:49.725000+00:00             2   \n",
       "\n",
       "       total_purchase  count_purchase_per_day  std_amount_purchase  \\\n",
       "0                0.79                    1.00                 0.00   \n",
       "1                7.88                    1.00                 0.00   \n",
       "2                3.98                    2.00                 0.00   \n",
       "3                5.97                    1.00                 0.00   \n",
       "4                1.99                    1.00                 0.00   \n",
       "...               ...                     ...                  ...   \n",
       "32115           15.76                    1.00                 0.00   \n",
       "32116            5.97                    1.00                 0.00   \n",
       "32117            1.58                    1.00                 0.00   \n",
       "32118            1.99                    1.00                 0.00   \n",
       "32119           11.98                    2.00                 5.66   \n",
       "\n",
       "       max_purchase  days_since_last_purchase  num_product_buyed  \n",
       "0              0.79                        22                  1  \n",
       "1              7.88                        21                  1  \n",
       "2              1.99                         4                  2  \n",
       "3              1.99                        21                  2  \n",
       "4              1.99                         4                  1  \n",
       "...             ...                       ...                ...  \n",
       "32115          7.88                        -2                  1  \n",
       "32116          1.99                        -1                  1  \n",
       "32117          1.58                        41                  1  \n",
       "32118          1.99                         3                  1  \n",
       "32119          9.99                         4                  2  \n",
       "\n",
       "[32120 rows x 9 columns]"
      ]
     },
     "execution_count": 25,
     "metadata": {},
     "output_type": "execute_result"
    }
   ],
   "source": [
    "def extract_group_features(group):\n",
    "    result={}\n",
    "    for func in features_function:\n",
    "        try:\n",
    "            result.update(func(group))\n",
    "        except Exception as e:\n",
    "            print(f\"Error at feature: {func}. Error: {e}\")\n",
    "    return pd.Series(result)\n",
    "\n",
    "df_res = data.groupby('vopenid').apply(extract_group_features).reset_index()\n",
    "df_res"
   ]
  },
  {
   "cell_type": "code",
   "execution_count": 26,
   "id": "e5c6a6d0",
   "metadata": {},
   "outputs": [],
   "source": [
    "df_res.to_csv(\"data/purchase_transform.csv\",index=False,header=True)"
   ]
  },
  {
   "cell_type": "code",
   "execution_count": 27,
   "id": "00d83cee",
   "metadata": {},
   "outputs": [
    {
     "data": {
      "text/plain": [
       "(np.float64(0.0), np.float64(190.9643750371606))"
      ]
     },
     "execution_count": 27,
     "metadata": {},
     "output_type": "execute_result"
    }
   ],
   "source": [
    "df_res['std_amount_purchase'].min(),df_res['std_amount_purchase'].max()"
   ]
  },
  {
   "cell_type": "code",
   "execution_count": null,
   "id": "70862f37",
   "metadata": {},
   "outputs": [],
   "source": []
  },
  {
   "cell_type": "code",
   "execution_count": null,
   "id": "0cd82bba",
   "metadata": {},
   "outputs": [],
   "source": []
  },
  {
   "cell_type": "code",
   "execution_count": null,
   "id": "5ebdee84",
   "metadata": {},
   "outputs": [],
   "source": []
  },
  {
   "cell_type": "code",
   "execution_count": null,
   "id": "92b93622",
   "metadata": {},
   "outputs": [],
   "source": []
  }
 ],
 "metadata": {
  "kernelspec": {
   "display_name": "Python 3",
   "language": "python",
   "name": "python3"
  },
  "language_info": {
   "codemirror_mode": {
    "name": "ipython",
    "version": 3
   },
   "file_extension": ".py",
   "mimetype": "text/x-python",
   "name": "python",
   "nbconvert_exporter": "python",
   "pygments_lexer": "ipython3",
   "version": "3.12.6"
  }
 },
 "nbformat": 4,
 "nbformat_minor": 5
}
