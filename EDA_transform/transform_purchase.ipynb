{
 "cells": [
  {
   "cell_type": "markdown",
   "id": "2479dca0",
   "metadata": {},
   "source": [
    "<div style=\"color:#007acc; text-align:center; font-size:32px; font-weight:bold; font-family:Arial, sans-serif;\">\n",
    "  Explore Data Analysis and Transform Purchase Log Data\n",
    "</div>"
   ]
  },
  {
   "cell_type": "code",
   "execution_count": 1,
   "id": "63563afb",
   "metadata": {},
   "outputs": [],
   "source": [
    "import pandas as pd\n",
    "import numpy as np\n",
    "import matplotlib.pyplot as plt\n",
    "import seaborn as sns\n",
    "\n",
    "pd.set_option('display.max_colwidth', None)\n",
    "pd.set_option('display.max_columns',None)\n",
    "pd.set_option('display.float_format', lambda x: '%.2f' % x)"
   ]
  },
  {
   "cell_type": "code",
   "execution_count": 2,
   "id": "c0474204",
   "metadata": {},
   "outputs": [
    {
     "data": {
      "text/html": [
       "<div>\n",
       "<style scoped>\n",
       "    .dataframe tbody tr th:only-of-type {\n",
       "        vertical-align: middle;\n",
       "    }\n",
       "\n",
       "    .dataframe tbody tr th {\n",
       "        vertical-align: top;\n",
       "    }\n",
       "\n",
       "    .dataframe thead th {\n",
       "        text-align: right;\n",
       "    }\n",
       "</style>\n",
       "<table border=\"1\" class=\"dataframe\">\n",
       "  <thead>\n",
       "    <tr style=\"text-align: right;\">\n",
       "      <th></th>\n",
       "      <th>@timestamp</th>\n",
       "      <th>user.id</th>\n",
       "      <th>event.its.properties.product_name</th>\n",
       "      <th>event.its.properties.payment_amount</th>\n",
       "    </tr>\n",
       "  </thead>\n",
       "  <tbody>\n",
       "    <tr>\n",
       "      <th>0</th>\n",
       "      <td>2025-05-01T00:00:47.311Z</td>\n",
       "      <td>2407101213288475</td>\n",
       "      <td>PremiumCard</td>\n",
       "      <td>7.88</td>\n",
       "    </tr>\n",
       "    <tr>\n",
       "      <th>1</th>\n",
       "      <td>2025-05-01T00:00:48.114Z</td>\n",
       "      <td>2407031054495048</td>\n",
       "      <td>PremiumCard</td>\n",
       "      <td>7.88</td>\n",
       "    </tr>\n",
       "    <tr>\n",
       "      <th>2</th>\n",
       "      <td>2025-05-01T00:01:13.716Z</td>\n",
       "      <td>2408252045392366</td>\n",
       "      <td>PremiumCard</td>\n",
       "      <td>8.48</td>\n",
       "    </tr>\n",
       "    <tr>\n",
       "      <th>3</th>\n",
       "      <td>2025-05-01T00:01:17.839Z</td>\n",
       "      <td>2504291256453716</td>\n",
       "      <td>100 Silk</td>\n",
       "      <td>3.00</td>\n",
       "    </tr>\n",
       "    <tr>\n",
       "      <th>4</th>\n",
       "      <td>2025-05-01T00:01:22.083Z</td>\n",
       "      <td>2504051634480468</td>\n",
       "      <td>com.silkroad.pack.gold</td>\n",
       "      <td>0.99</td>\n",
       "    </tr>\n",
       "    <tr>\n",
       "      <th>...</th>\n",
       "      <td>...</td>\n",
       "      <td>...</td>\n",
       "      <td>...</td>\n",
       "      <td>...</td>\n",
       "    </tr>\n",
       "    <tr>\n",
       "      <th>97354</th>\n",
       "      <td>2025-06-25T23:51:31.633Z</td>\n",
       "      <td>2505200949170396</td>\n",
       "      <td>500 Diamond</td>\n",
       "      <td>15.00</td>\n",
       "    </tr>\n",
       "    <tr>\n",
       "      <th>97355</th>\n",
       "      <td>2025-06-25T23:53:53.844Z</td>\n",
       "      <td>2406171618439883</td>\n",
       "      <td>com.silkroad.pack.100diamond</td>\n",
       "      <td>3.99</td>\n",
       "    </tr>\n",
       "    <tr>\n",
       "      <th>97356</th>\n",
       "      <td>2025-06-25T23:55:01.243Z</td>\n",
       "      <td>2503191105447775</td>\n",
       "      <td>100 Silk</td>\n",
       "      <td>3.49</td>\n",
       "    </tr>\n",
       "    <tr>\n",
       "      <th>97357</th>\n",
       "      <td>2025-06-25T23:58:42.493Z</td>\n",
       "      <td>2506090230120563</td>\n",
       "      <td>RechargeTable_Name_43</td>\n",
       "      <td>1.99</td>\n",
       "    </tr>\n",
       "    <tr>\n",
       "      <th>97358</th>\n",
       "      <td>2025-06-25T23:59:55.587Z</td>\n",
       "      <td>2504130034060813</td>\n",
       "      <td>InvestmentFund</td>\n",
       "      <td>15.00</td>\n",
       "    </tr>\n",
       "  </tbody>\n",
       "</table>\n",
       "<p>97359 rows × 4 columns</p>\n",
       "</div>"
      ],
      "text/plain": [
       "                     @timestamp           user.id  \\\n",
       "0      2025-05-01T00:00:47.311Z  2407101213288475   \n",
       "1      2025-05-01T00:00:48.114Z  2407031054495048   \n",
       "2      2025-05-01T00:01:13.716Z  2408252045392366   \n",
       "3      2025-05-01T00:01:17.839Z  2504291256453716   \n",
       "4      2025-05-01T00:01:22.083Z  2504051634480468   \n",
       "...                         ...               ...   \n",
       "97354  2025-06-25T23:51:31.633Z  2505200949170396   \n",
       "97355  2025-06-25T23:53:53.844Z  2406171618439883   \n",
       "97356  2025-06-25T23:55:01.243Z  2503191105447775   \n",
       "97357  2025-06-25T23:58:42.493Z  2506090230120563   \n",
       "97358  2025-06-25T23:59:55.587Z  2504130034060813   \n",
       "\n",
       "      event.its.properties.product_name  event.its.properties.payment_amount  \n",
       "0                           PremiumCard                                 7.88  \n",
       "1                           PremiumCard                                 7.88  \n",
       "2                           PremiumCard                                 8.48  \n",
       "3                              100 Silk                                 3.00  \n",
       "4                com.silkroad.pack.gold                                 0.99  \n",
       "...                                 ...                                  ...  \n",
       "97354                       500 Diamond                                15.00  \n",
       "97355      com.silkroad.pack.100diamond                                 3.99  \n",
       "97356                          100 Silk                                 3.49  \n",
       "97357             RechargeTable_Name_43                                 1.99  \n",
       "97358                    InvestmentFund                                15.00  \n",
       "\n",
       "[97359 rows x 4 columns]"
      ]
     },
     "execution_count": 2,
     "metadata": {},
     "output_type": "execute_result"
    }
   ],
   "source": [
    "df=pd.read_csv(\"../ingest_from_ITS/data/m952_purchase_2025-05-01_00-00-00_to_2025-06-26_00-00-00.csv\") \n",
    "df"
   ]
  },
  {
   "cell_type": "code",
   "execution_count": 3,
   "id": "6e8d887e",
   "metadata": {},
   "outputs": [],
   "source": [
    "df['user.id']=df['user.id'].astype(str)"
   ]
  },
  {
   "cell_type": "code",
   "execution_count": 4,
   "id": "926fc740",
   "metadata": {},
   "outputs": [
    {
     "name": "stdout",
     "output_type": "stream",
     "text": [
      "<class 'pandas.core.frame.DataFrame'>\n",
      "RangeIndex: 97359 entries, 0 to 97358\n",
      "Data columns (total 4 columns):\n",
      " #   Column                               Non-Null Count  Dtype  \n",
      "---  ------                               --------------  -----  \n",
      " 0   @timestamp                           97359 non-null  object \n",
      " 1   user.id                              97359 non-null  object \n",
      " 2   event.its.properties.product_name    97359 non-null  object \n",
      " 3   event.its.properties.payment_amount  97359 non-null  float64\n",
      "dtypes: float64(1), object(3)\n",
      "memory usage: 3.0+ MB\n"
     ]
    }
   ],
   "source": [
    "df.info()"
   ]
  },
  {
   "cell_type": "code",
   "execution_count": 5,
   "id": "018d99a6",
   "metadata": {},
   "outputs": [
    {
     "data": {
      "text/html": [
       "<div>\n",
       "<style scoped>\n",
       "    .dataframe tbody tr th:only-of-type {\n",
       "        vertical-align: middle;\n",
       "    }\n",
       "\n",
       "    .dataframe tbody tr th {\n",
       "        vertical-align: top;\n",
       "    }\n",
       "\n",
       "    .dataframe thead th {\n",
       "        text-align: right;\n",
       "    }\n",
       "</style>\n",
       "<table border=\"1\" class=\"dataframe\">\n",
       "  <thead>\n",
       "    <tr style=\"text-align: right;\">\n",
       "      <th></th>\n",
       "      <th>event.its.properties.payment_amount</th>\n",
       "    </tr>\n",
       "  </thead>\n",
       "  <tbody>\n",
       "    <tr>\n",
       "      <th>count</th>\n",
       "      <td>97359.00</td>\n",
       "    </tr>\n",
       "    <tr>\n",
       "      <th>mean</th>\n",
       "      <td>10.56</td>\n",
       "    </tr>\n",
       "    <tr>\n",
       "      <th>std</th>\n",
       "      <td>14.11</td>\n",
       "    </tr>\n",
       "    <tr>\n",
       "      <th>min</th>\n",
       "      <td>-99.99</td>\n",
       "    </tr>\n",
       "    <tr>\n",
       "      <th>25%</th>\n",
       "      <td>3.99</td>\n",
       "    </tr>\n",
       "    <tr>\n",
       "      <th>50%</th>\n",
       "      <td>7.88</td>\n",
       "    </tr>\n",
       "    <tr>\n",
       "      <th>75%</th>\n",
       "      <td>15.00</td>\n",
       "    </tr>\n",
       "    <tr>\n",
       "      <th>max</th>\n",
       "      <td>360.00</td>\n",
       "    </tr>\n",
       "  </tbody>\n",
       "</table>\n",
       "</div>"
      ],
      "text/plain": [
       "       event.its.properties.payment_amount\n",
       "count                             97359.00\n",
       "mean                                 10.56\n",
       "std                                  14.11\n",
       "min                                 -99.99\n",
       "25%                                   3.99\n",
       "50%                                   7.88\n",
       "75%                                  15.00\n",
       "max                                 360.00"
      ]
     },
     "execution_count": 5,
     "metadata": {},
     "output_type": "execute_result"
    }
   ],
   "source": [
    "df.describe()"
   ]
  },
  {
   "cell_type": "code",
   "execution_count": 6,
   "id": "fc2b91f3",
   "metadata": {},
   "outputs": [
    {
     "data": {
      "text/plain": [
       "@timestamp                             0\n",
       "user.id                                0\n",
       "event.its.properties.product_name      0\n",
       "event.its.properties.payment_amount    0\n",
       "dtype: int64"
      ]
     },
     "execution_count": 6,
     "metadata": {},
     "output_type": "execute_result"
    }
   ],
   "source": [
    "df.isnull().sum()"
   ]
  },
  {
   "cell_type": "code",
   "execution_count": 7,
   "id": "77ee8620",
   "metadata": {},
   "outputs": [
    {
     "name": "stdout",
     "output_type": "stream",
     "text": [
      "column deleted: []\n"
     ]
    },
    {
     "data": {
      "text/plain": [
       "(97359, 4)"
      ]
     },
     "execution_count": 7,
     "metadata": {},
     "output_type": "execute_result"
    }
   ],
   "source": [
    "null_ratio = df.isnull().mean()\n",
    "cols_to_drop = null_ratio[null_ratio > 0.95].index\n",
    "print(\"column deleted:\", list(cols_to_drop))\n",
    "df = df.drop(columns=cols_to_drop)\n",
    "df.shape"
   ]
  },
  {
   "cell_type": "code",
   "execution_count": 8,
   "id": "efd1207b",
   "metadata": {},
   "outputs": [
    {
     "data": {
      "text/plain": [
       "(97359, 4)"
      ]
     },
     "execution_count": 8,
     "metadata": {},
     "output_type": "execute_result"
    }
   ],
   "source": [
    "df['@timestamp'] = pd.to_datetime(df['@timestamp'], errors='coerce', utc=True)\n",
    "df.shape"
   ]
  },
  {
   "cell_type": "code",
   "execution_count": 9,
   "id": "c97f259b",
   "metadata": {},
   "outputs": [
    {
     "data": {
      "text/plain": [
       "37259"
      ]
     },
     "execution_count": 9,
     "metadata": {},
     "output_type": "execute_result"
    }
   ],
   "source": [
    "len(df['user.id'].unique())"
   ]
  },
  {
   "cell_type": "code",
   "execution_count": 10,
   "id": "d773452f",
   "metadata": {},
   "outputs": [
    {
     "data": {
      "text/plain": [
       "np.float64(1027685.5200000001)"
      ]
     },
     "execution_count": 10,
     "metadata": {},
     "output_type": "execute_result"
    }
   ],
   "source": [
    "df['event.its.properties.payment_amount'].sum()"
   ]
  },
  {
   "cell_type": "code",
   "execution_count": 11,
   "id": "4748b15f",
   "metadata": {},
   "outputs": [],
   "source": [
    "df=df.rename(columns={'user.id':'vopenid'})"
   ]
  },
  {
   "cell_type": "markdown",
   "id": "7a7796d1",
   "metadata": {},
   "source": [
    "#### **Visualize**"
   ]
  },
  {
   "cell_type": "code",
   "execution_count": 12,
   "id": "5b058f1e",
   "metadata": {},
   "outputs": [
    {
     "data": {
      "image/png": "[encoded data removed]",
      "text/plain": [
       "<Figure size 1200x500 with 1 Axes>"
      ]
     },
     "metadata": {},
     "output_type": "display_data"
    }
   ],
   "source": [
    "df[\"@timestamp\"] = pd.to_datetime(df[\"@timestamp\"])\n",
    "df[\"date\"] = df[\"@timestamp\"].dt.date\n",
    "\n",
    "daily_payment = df.groupby(\"date\")[\"event.its.properties.payment_amount\"].sum()\n",
    "\n",
    "daily_payment.plot(kind=\"bar\", figsize=(12, 5), title=\"Total purchase per day\")\n",
    "plt.ylabel(\"Total purchase (USD)\")\n",
    "plt.xlabel(\"Date\")\n",
    "plt.grid(True)\n",
    "plt.tight_layout()\n",
    "plt.show()"
   ]
  },
  {
   "cell_type": "code",
   "execution_count": 13,
   "id": "3eab8319",
   "metadata": {},
   "outputs": [
    {
     "data": {
      "image/png": "[encoded data removed]",
      "text/plain": [
       "<Figure size 640x480 with 1 Axes>"
      ]
     },
     "metadata": {},
     "output_type": "display_data"
    }
   ],
   "source": [
    "top_products = df[\"event.its.properties.product_name\"].value_counts().head(10)\n",
    "top_products.plot(kind=\"bar\", title=\"Top 10 products\")\n",
    "plt.ylabel(\"Number products\")\n",
    "plt.tight_layout()\n",
    "plt.show()"
   ]
  },
  {
   "cell_type": "markdown",
   "id": "7a1a174e",
   "metadata": {},
   "source": [
    "#### **Create features**"
   ]
  },
  {
   "cell_type": "code",
   "execution_count": 14,
   "id": "c0e3ddde",
   "metadata": {},
   "outputs": [],
   "source": [
    "data=df\n",
    "# now = pd.Timestamp.now(tz='UTC')\n",
    "now = pd.Timestamp(\"2025-06-26 07:00:00\", tz=\"UTC\")"
   ]
  },
  {
   "cell_type": "code",
   "execution_count": 15,
   "id": "d1f3f4f8",
   "metadata": {},
   "outputs": [],
   "source": [
    "def last_update_time(group):\n",
    "    last_time = group['@timestamp'].max()\n",
    "    return {\n",
    "        'last_update_time': last_time\n",
    "    }"
   ]
  },
  {
   "cell_type": "code",
   "execution_count": 16,
   "id": "09cc62cd",
   "metadata": {},
   "outputs": [],
   "source": [
    "def num_purchase(group):\n",
    "    count = len(group)\n",
    "    refund_count = (group['event.its.properties.payment_amount'] < 0).sum()\n",
    "    count -= refund_count\n",
    "    return {\n",
    "        'num_purchase': max(count, 0)  \n",
    "    }"
   ]
  },
  {
   "cell_type": "code",
   "execution_count": 17,
   "id": "14a7fd25",
   "metadata": {},
   "outputs": [],
   "source": [
    "def total_money_purchase(group):\n",
    "    total=group['event.its.properties.payment_amount'].sum()\n",
    "    if total < 0:\n",
    "        total=0\n",
    "    return {\n",
    "        'total_purchase': total\n",
    "    }"
   ]
  },
  {
   "cell_type": "code",
   "execution_count": 18,
   "id": "a88056ef",
   "metadata": {},
   "outputs": [],
   "source": [
    "def max_purchase(group):\n",
    "    max_mount=group['event.its.properties.payment_amount'].max()\n",
    "    if max_mount < 0:\n",
    "        max_mount=0\n",
    "    return {\n",
    "        'max_purchase':max_mount,\n",
    "    }"
   ]
  },
  {
   "cell_type": "code",
   "execution_count": 19,
   "id": "812da339",
   "metadata": {},
   "outputs": [],
   "source": [
    "def count_purchase_on_day(group):\n",
    "    if group.empty:\n",
    "        return pd.Series({'count_purchase_on_day': 0})\n",
    "\n",
    "    group['date'] = group['@timestamp'].dt.date\n",
    "    daily_counts = group.groupby('date').size()\n",
    "\n",
    "    avg = daily_counts.mean()\n",
    "    \n",
    "    return {\n",
    "        'count_purchase_on_day': avg\n",
    "    }"
   ]
  },
  {
   "cell_type": "code",
   "execution_count": 20,
   "id": "11268cae",
   "metadata": {},
   "outputs": [],
   "source": [
    "def avg_purchase(group):\n",
    "    total_purchase = group['event.its.properties.payment_amount'].sum()\n",
    "    num_purchase = len(group)\n",
    "    return {\n",
    "        'avg_purchase': total_purchase / num_purchase if num_purchase > 0 else 0\n",
    "    }"
   ]
  },
  {
   "cell_type": "code",
   "execution_count": 21,
   "id": "07aac7bc",
   "metadata": {},
   "outputs": [],
   "source": [
    "def std_amount_purchase(group):\n",
    "    amounts = group['event.its.properties.payment_amount']\n",
    "    amounts = amounts[amounts >= 0]\n",
    "    \n",
    "    if len(amounts) < 2:\n",
    "        std = 0.0  \n",
    "    else:\n",
    "        std = amounts.std()\n",
    "    \n",
    "    return {\n",
    "        'std_amount_purchase': std\n",
    "    }"
   ]
  },
  {
   "cell_type": "code",
   "execution_count": 22,
   "id": "6ce6fd24",
   "metadata": {},
   "outputs": [],
   "source": [
    "def frequency_purchase(group):\n",
    "    num_purchase = len(group)\n",
    "    days = group['@timestamp'].dt.date.nunique()\n",
    "    return {\n",
    "        'frequency_purchase': num_purchase / days if days > 0 else 0\n",
    "    }"
   ]
  },
  {
   "cell_type": "code",
   "execution_count": 23,
   "id": "cc16c32c",
   "metadata": {},
   "outputs": [],
   "source": [
    "def days_since_last_purchase(group):\n",
    "    last_time = group['@timestamp'].max()\n",
    "    return pd.Series({\n",
    "        'days_since_last_purchase': (now - last_time).days\n",
    "    })"
   ]
  },
  {
   "cell_type": "code",
   "execution_count": 24,
   "id": "8cc550eb",
   "metadata": {},
   "outputs": [],
   "source": [
    "def num_products(group):\n",
    "    try:\n",
    "        unique_products = group['event.its.properties.product_name'].nunique()\n",
    "        return {\n",
    "            'num_product_buyed': unique_products\n",
    "        }\n",
    "    except Exception as e:\n",
    "        print(f\"Error in num_products: {e}\")\n",
    "        return {\n",
    "            'num_product_buyed': 0\n",
    "        }"
   ]
  },
  {
   "cell_type": "code",
   "execution_count": null,
   "id": "e7232b94",
   "metadata": {},
   "outputs": [],
   "source": []
  },
  {
   "cell_type": "code",
   "execution_count": 25,
   "id": "f4d7d725",
   "metadata": {},
   "outputs": [],
   "source": [
    "features_function=[\n",
    "   last_update_time,\n",
    "   total_money_purchase,\n",
    "   num_purchase,\n",
    "   max_purchase,\n",
    "   avg_purchase,\n",
    "   frequency_purchase,\n",
    "   count_purchase_on_day,\n",
    "   std_amount_purchase,\n",
    "   days_since_last_purchase,\n",
    "   num_products,\n",
    "]"
   ]
  },
  {
   "cell_type": "code",
   "execution_count": 26,
   "id": "bce19ffe",
   "metadata": {},
   "outputs": [
    {
     "name": "stderr",
     "output_type": "stream",
     "text": [
      "C:\\Users\\GOSU.GOSU-TT-ZION1\\AppData\\Local\\Temp\\ipykernel_19080\\3747869921.py:10: DeprecationWarning: DataFrameGroupBy.apply operated on the grouping columns. This behavior is deprecated, and in a future version of pandas the grouping columns will be excluded from the operation. Either pass `include_groups=False` to exclude the groupings or explicitly select the grouping columns after groupby to silence this warning.\n",
      "  df_res = data.groupby('vopenid').apply(extract_group_features).reset_index()\n"
     ]
    },
    {
     "data": {
      "text/html": [
       "<div>\n",
       "<style scoped>\n",
       "    .dataframe tbody tr th:only-of-type {\n",
       "        vertical-align: middle;\n",
       "    }\n",
       "\n",
       "    .dataframe tbody tr th {\n",
       "        vertical-align: top;\n",
       "    }\n",
       "\n",
       "    .dataframe thead th {\n",
       "        text-align: right;\n",
       "    }\n",
       "</style>\n",
       "<table border=\"1\" class=\"dataframe\">\n",
       "  <thead>\n",
       "    <tr style=\"text-align: right;\">\n",
       "      <th></th>\n",
       "      <th>vopenid</th>\n",
       "      <th>last_update_time</th>\n",
       "      <th>total_purchase</th>\n",
       "      <th>num_purchase</th>\n",
       "      <th>max_purchase</th>\n",
       "      <th>avg_purchase</th>\n",
       "      <th>frequency_purchase</th>\n",
       "      <th>count_purchase_on_day</th>\n",
       "      <th>std_amount_purchase</th>\n",
       "      <th>days_since_last_purchase</th>\n",
       "      <th>num_product_buyed</th>\n",
       "    </tr>\n",
       "  </thead>\n",
       "  <tbody>\n",
       "    <tr>\n",
       "      <th>0</th>\n",
       "      <td>2206151945395710</td>\n",
       "      <td>2025-06-24 22:46:22.711000+00:00</td>\n",
       "      <td>3.99</td>\n",
       "      <td>1</td>\n",
       "      <td>3.99</td>\n",
       "      <td>3.99</td>\n",
       "      <td>1.00</td>\n",
       "      <td>1.00</td>\n",
       "      <td>0.00</td>\n",
       "      <td>1</td>\n",
       "      <td>1</td>\n",
       "    </tr>\n",
       "    <tr>\n",
       "      <th>1</th>\n",
       "      <td>2206211830166192</td>\n",
       "      <td>2025-05-24 15:48:36.757000+00:00</td>\n",
       "      <td>0.79</td>\n",
       "      <td>1</td>\n",
       "      <td>0.79</td>\n",
       "      <td>0.79</td>\n",
       "      <td>1.00</td>\n",
       "      <td>1.00</td>\n",
       "      <td>0.00</td>\n",
       "      <td>32</td>\n",
       "      <td>1</td>\n",
       "    </tr>\n",
       "    <tr>\n",
       "      <th>2</th>\n",
       "      <td>2208132058338497</td>\n",
       "      <td>2025-06-20 03:06:03.875000+00:00</td>\n",
       "      <td>1.99</td>\n",
       "      <td>1</td>\n",
       "      <td>1.99</td>\n",
       "      <td>1.99</td>\n",
       "      <td>1.00</td>\n",
       "      <td>1.00</td>\n",
       "      <td>0.00</td>\n",
       "      <td>6</td>\n",
       "      <td>1</td>\n",
       "    </tr>\n",
       "    <tr>\n",
       "      <th>3</th>\n",
       "      <td>2210221534402190</td>\n",
       "      <td>2025-05-26 05:14:28.541000+00:00</td>\n",
       "      <td>7.88</td>\n",
       "      <td>1</td>\n",
       "      <td>7.88</td>\n",
       "      <td>7.88</td>\n",
       "      <td>1.00</td>\n",
       "      <td>1.00</td>\n",
       "      <td>0.00</td>\n",
       "      <td>31</td>\n",
       "      <td>1</td>\n",
       "    </tr>\n",
       "    <tr>\n",
       "      <th>4</th>\n",
       "      <td>2210221828089318</td>\n",
       "      <td>2025-06-11 14:06:52.646000+00:00</td>\n",
       "      <td>3.98</td>\n",
       "      <td>2</td>\n",
       "      <td>1.99</td>\n",
       "      <td>1.99</td>\n",
       "      <td>2.00</td>\n",
       "      <td>2.00</td>\n",
       "      <td>0.00</td>\n",
       "      <td>14</td>\n",
       "      <td>2</td>\n",
       "    </tr>\n",
       "    <tr>\n",
       "      <th>...</th>\n",
       "      <td>...</td>\n",
       "      <td>...</td>\n",
       "      <td>...</td>\n",
       "      <td>...</td>\n",
       "      <td>...</td>\n",
       "      <td>...</td>\n",
       "      <td>...</td>\n",
       "      <td>...</td>\n",
       "      <td>...</td>\n",
       "      <td>...</td>\n",
       "      <td>...</td>\n",
       "    </tr>\n",
       "    <tr>\n",
       "      <th>37254</th>\n",
       "      <td>6210001017824</td>\n",
       "      <td>2025-06-25 03:01:13.202000+00:00</td>\n",
       "      <td>17.79</td>\n",
       "      <td>5</td>\n",
       "      <td>7.88</td>\n",
       "      <td>3.56</td>\n",
       "      <td>1.25</td>\n",
       "      <td>1.25</td>\n",
       "      <td>2.56</td>\n",
       "      <td>1</td>\n",
       "      <td>3</td>\n",
       "    </tr>\n",
       "    <tr>\n",
       "      <th>37255</th>\n",
       "      <td>6210001048809</td>\n",
       "      <td>2025-05-02 05:53:07.510000+00:00</td>\n",
       "      <td>1.99</td>\n",
       "      <td>1</td>\n",
       "      <td>1.99</td>\n",
       "      <td>1.99</td>\n",
       "      <td>1.00</td>\n",
       "      <td>1.00</td>\n",
       "      <td>0.00</td>\n",
       "      <td>55</td>\n",
       "      <td>1</td>\n",
       "    </tr>\n",
       "    <tr>\n",
       "      <th>37256</th>\n",
       "      <td>6210001076576</td>\n",
       "      <td>2025-05-05 18:33:57.853000+00:00</td>\n",
       "      <td>1.58</td>\n",
       "      <td>1</td>\n",
       "      <td>1.58</td>\n",
       "      <td>1.58</td>\n",
       "      <td>1.00</td>\n",
       "      <td>1.00</td>\n",
       "      <td>0.00</td>\n",
       "      <td>51</td>\n",
       "      <td>1</td>\n",
       "    </tr>\n",
       "    <tr>\n",
       "      <th>37257</th>\n",
       "      <td>6220001331202</td>\n",
       "      <td>2025-06-12 14:39:00.448000+00:00</td>\n",
       "      <td>1.99</td>\n",
       "      <td>1</td>\n",
       "      <td>1.99</td>\n",
       "      <td>1.99</td>\n",
       "      <td>1.00</td>\n",
       "      <td>1.00</td>\n",
       "      <td>0.00</td>\n",
       "      <td>13</td>\n",
       "      <td>1</td>\n",
       "    </tr>\n",
       "    <tr>\n",
       "      <th>37258</th>\n",
       "      <td>6220001449993</td>\n",
       "      <td>2025-06-12 10:49:49.725000+00:00</td>\n",
       "      <td>11.98</td>\n",
       "      <td>2</td>\n",
       "      <td>9.99</td>\n",
       "      <td>5.99</td>\n",
       "      <td>2.00</td>\n",
       "      <td>2.00</td>\n",
       "      <td>5.66</td>\n",
       "      <td>13</td>\n",
       "      <td>2</td>\n",
       "    </tr>\n",
       "  </tbody>\n",
       "</table>\n",
       "<p>37259 rows × 11 columns</p>\n",
       "</div>"
      ],
      "text/plain": [
       "                vopenid                 last_update_time  total_purchase  \\\n",
       "0      2206151945395710 2025-06-24 22:46:22.711000+00:00            3.99   \n",
       "1      2206211830166192 2025-05-24 15:48:36.757000+00:00            0.79   \n",
       "2      2208132058338497 2025-06-20 03:06:03.875000+00:00            1.99   \n",
       "3      2210221534402190 2025-05-26 05:14:28.541000+00:00            7.88   \n",
       "4      2210221828089318 2025-06-11 14:06:52.646000+00:00            3.98   \n",
       "...                 ...                              ...             ...   \n",
       "37254     6210001017824 2025-06-25 03:01:13.202000+00:00           17.79   \n",
       "37255     6210001048809 2025-05-02 05:53:07.510000+00:00            1.99   \n",
       "37256     6210001076576 2025-05-05 18:33:57.853000+00:00            1.58   \n",
       "37257     6220001331202 2025-06-12 14:39:00.448000+00:00            1.99   \n",
       "37258     6220001449993 2025-06-12 10:49:49.725000+00:00           11.98   \n",
       "\n",
       "       num_purchase  max_purchase  avg_purchase  frequency_purchase  \\\n",
       "0                 1          3.99          3.99                1.00   \n",
       "1                 1          0.79          0.79                1.00   \n",
       "2                 1          1.99          1.99                1.00   \n",
       "3                 1          7.88          7.88                1.00   \n",
       "4                 2          1.99          1.99                2.00   \n",
       "...             ...           ...           ...                 ...   \n",
       "37254             5          7.88          3.56                1.25   \n",
       "37255             1          1.99          1.99                1.00   \n",
       "37256             1          1.58          1.58                1.00   \n",
       "37257             1          1.99          1.99                1.00   \n",
       "37258             2          9.99          5.99                2.00   \n",
       "\n",
       "       count_purchase_on_day  std_amount_purchase  days_since_last_purchase  \\\n",
       "0                       1.00                 0.00                         1   \n",
       "1                       1.00                 0.00                        32   \n",
       "2                       1.00                 0.00                         6   \n",
       "3                       1.00                 0.00                        31   \n",
       "4                       2.00                 0.00                        14   \n",
       "...                      ...                  ...                       ...   \n",
       "37254                   1.25                 2.56                         1   \n",
       "37255                   1.00                 0.00                        55   \n",
       "37256                   1.00                 0.00                        51   \n",
       "37257                   1.00                 0.00                        13   \n",
       "37258                   2.00                 5.66                        13   \n",
       "\n",
       "       num_product_buyed  \n",
       "0                      1  \n",
       "1                      1  \n",
       "2                      1  \n",
       "3                      1  \n",
       "4                      2  \n",
       "...                  ...  \n",
       "37254                  3  \n",
       "37255                  1  \n",
       "37256                  1  \n",
       "37257                  1  \n",
       "37258                  2  \n",
       "\n",
       "[37259 rows x 11 columns]"
      ]
     },
     "execution_count": 26,
     "metadata": {},
     "output_type": "execute_result"
    }
   ],
   "source": [
    "def extract_group_features(group):\n",
    "    result={}\n",
    "    for func in features_function:\n",
    "        try:\n",
    "            result.update(func(group))\n",
    "        except Exception as e:\n",
    "            print(f\"Error at feature: {func}. Error: {e}\")\n",
    "    return pd.Series(result)\n",
    "\n",
    "df_res = data.groupby('vopenid').apply(extract_group_features).reset_index()\n",
    "df_res"
   ]
  },
  {
   "cell_type": "code",
   "execution_count": 27,
   "id": "89cde0e9",
   "metadata": {},
   "outputs": [],
   "source": [
    "df_res = df_res[~(df_res['total_purchase'] == 0)]"
   ]
  },
  {
   "cell_type": "code",
   "execution_count": 28,
   "id": "e5c6a6d0",
   "metadata": {},
   "outputs": [],
   "source": [
    "df_res.to_csv(\"data/purchase_transform.csv\",index=False,header=True)"
   ]
  },
  {
   "cell_type": "code",
   "execution_count": 29,
   "id": "00d83cee",
   "metadata": {},
   "outputs": [
    {
     "data": {
      "text/plain": [
       "(np.float64(0.0), np.float64(196.22980949217003))"
      ]
     },
     "execution_count": 29,
     "metadata": {},
     "output_type": "execute_result"
    }
   ],
   "source": [
    "df_res['std_amount_purchase'].min(),df_res['std_amount_purchase'].max()"
   ]
  },
  {
   "cell_type": "code",
   "execution_count": 30,
   "id": "70862f37",
   "metadata": {},
   "outputs": [
    {
     "data": {
      "text/plain": [
       "np.float64(1028083.63)"
      ]
     },
     "execution_count": 30,
     "metadata": {},
     "output_type": "execute_result"
    }
   ],
   "source": [
    "df_res['total_purchase'].sum()"
   ]
  },
  {
   "cell_type": "code",
   "execution_count": 31,
   "id": "0cd82bba",
   "metadata": {},
   "outputs": [
    {
     "data": {
      "text/html": [
       "<div>\n",
       "<style scoped>\n",
       "    .dataframe tbody tr th:only-of-type {\n",
       "        vertical-align: middle;\n",
       "    }\n",
       "\n",
       "    .dataframe tbody tr th {\n",
       "        vertical-align: top;\n",
       "    }\n",
       "\n",
       "    .dataframe thead th {\n",
       "        text-align: right;\n",
       "    }\n",
       "</style>\n",
       "<table border=\"1\" class=\"dataframe\">\n",
       "  <thead>\n",
       "    <tr style=\"text-align: right;\">\n",
       "      <th></th>\n",
       "      <th>vopenid</th>\n",
       "      <th>last_update_time</th>\n",
       "      <th>total_purchase</th>\n",
       "      <th>num_purchase</th>\n",
       "      <th>max_purchase</th>\n",
       "      <th>avg_purchase</th>\n",
       "      <th>frequency_purchase</th>\n",
       "      <th>count_purchase_on_day</th>\n",
       "      <th>std_amount_purchase</th>\n",
       "      <th>days_since_last_purchase</th>\n",
       "      <th>num_product_buyed</th>\n",
       "    </tr>\n",
       "  </thead>\n",
       "  <tbody>\n",
       "  </tbody>\n",
       "</table>\n",
       "</div>"
      ],
      "text/plain": [
       "Empty DataFrame\n",
       "Columns: [vopenid, last_update_time, total_purchase, num_purchase, max_purchase, avg_purchase, frequency_purchase, count_purchase_on_day, std_amount_purchase, days_since_last_purchase, num_product_buyed]\n",
       "Index: []"
      ]
     },
     "execution_count": 31,
     "metadata": {},
     "output_type": "execute_result"
    }
   ],
   "source": [
    "df_res[df_res['days_since_last_purchase']<0]"
   ]
  },
  {
   "cell_type": "code",
   "execution_count": null,
   "id": "5ebdee84",
   "metadata": {},
   "outputs": [],
   "source": []
  },
  {
   "cell_type": "code",
   "execution_count": null,
   "id": "92b93622",
   "metadata": {},
   "outputs": [],
   "source": []
  }
 ],
 "metadata": {
  "kernelspec": {
   "display_name": "Python 3",
   "language": "python",
   "name": "python3"
  },
  "language_info": {
   "codemirror_mode": {
    "name": "ipython",
    "version": 3
   },
   "file_extension": ".py",
   "mimetype": "text/x-python",
   "name": "python",
   "nbconvert_exporter": "python",
   "pygments_lexer": "ipython3",
   "version": "3.12.6"
  }
 },
 "nbformat": 4,
 "nbformat_minor": 5
}
