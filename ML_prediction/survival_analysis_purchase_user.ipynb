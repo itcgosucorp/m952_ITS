{
 "cells": [
  {
   "cell_type": "code",
   "execution_count": 1,
   "id": "a67d0a3f",
   "metadata": {},
   "outputs": [],
   "source": [
    "import pandas as pd\n",
    "import numpy as np\n",
    "from sksurv.util import Surv\n",
    "from sklearn.model_selection import train_test_split\n",
    "from sklearn.preprocessing import StandardScaler\n",
    "from sksurv.ensemble import RandomSurvivalForest"
   ]
  },
  {
   "cell_type": "code",
   "execution_count": 2,
   "id": "a5047bf7",
   "metadata": {},
   "outputs": [],
   "source": [
    "df_login=pd.read_csv(\"../EDA_transform/data/login_transform.csv\",dtype={'vopenid':'object'})\n",
    "df_purchase=pd.read_csv(\"../EDA_transform/data/purchase_transform.csv\",dtype={\"vopenid\":\"object\"})"
   ]
  },
  {
   "cell_type": "code",
   "execution_count": 3,
   "id": "3be6139d",
   "metadata": {},
   "outputs": [
    {
     "data": {
      "text/plain": [
       "(36125, 35)"
      ]
     },
     "execution_count": 3,
     "metadata": {},
     "output_type": "execute_result"
    }
   ],
   "source": [
    "df_merged = pd.merge(df_login, df_purchase, on='vopenid', how='inner')\n",
    "df_merged.shape"
   ]
  },
  {
   "cell_type": "code",
   "execution_count": 4,
   "id": "2dabe379",
   "metadata": {},
   "outputs": [],
   "source": [
    "feature_cols = [\n",
    "    'total_purchase','num_purchase','max_purchase','avg_purchase','frequency_purchase',\n",
    "    'count_purchase_on_day','std_amount_purchase','days_since_last_purchase','num_product_buyed',\n",
    "    'num_login','num_day_login','login_frequency','avg_weekly_login','std_weekly_login',\n",
    "    'streak_login','days_since_last_login','popular_time_login','gold_std_login','diamond_std_login',\n",
    "    'silkcoin_std_login','gold_slope_login','diamond_slope_login','silkcoin_slope_login',\n",
    "    'short_lifetime_flag','powerpoint_last_login','level_last_login','vip_last_login'\n",
    "]\n",
    "\n",
    "df_merged[\"event\"] = df_merged[\"event\"].astype(bool)   "
   ]
  },
  {
   "cell_type": "code",
   "execution_count": 5,
   "id": "1f0ba1d2",
   "metadata": {},
   "outputs": [],
   "source": [
    "X = df_merged[feature_cols]\n",
    "y = Surv.from_arrays(event=df_merged[\"event\"], time=df_merged[\"duration\"])\n",
    "vopenids = df_merged[\"vopenid\"].values\n",
    "\n",
    "X_train, X_test, y_train, y_test, vopenids_train, vopenids_test = train_test_split(\n",
    "    X, y, vopenids, test_size=0.2, random_state=42, stratify=df_merged[\"event\"]\n",
    ")"
   ]
  },
  {
   "cell_type": "code",
   "execution_count": 6,
   "id": "cc921a44",
   "metadata": {},
   "outputs": [],
   "source": [
    "scaler = StandardScaler()\n",
    "X_train_scaled = scaler.fit_transform(X_train)\n",
    "X_test_scaled = scaler.transform(X_test)"
   ]
  },
  {
   "cell_type": "code",
   "execution_count": null,
   "id": "0e664564",
   "metadata": {},
   "outputs": [],
   "source": [
    "rsf = RandomSurvivalForest(\n",
    "    n_estimators=500,\n",
    "    min_samples_split=10,\n",
    "    min_samples_leaf=5,\n",
    "    max_features=\"sqrt\",\n",
    "    max_depth=20,\n",
    "    n_jobs=-1,\n",
    "    random_state=42\n",
    ")\n",
    "rsf.fit(X_train_scaled, y_train)"
   ]
  },
  {
   "cell_type": "code",
   "execution_count": null,
   "id": "3b0144fa",
   "metadata": {},
   "outputs": [
    {
     "name": "stdout",
     "output_type": "stream",
     "text": [
      "User vopenid=2506101911192098 | test_index=400 Metrics:\n",
      "- Risk score: 56.8293\n",
      "- Median survival time: 7.00 days\n",
      "- Survive 7d: 0.115, Survive 30d: 0.000\n",
      "- Timeline (day: P[still active]):\n"
     ]
    }
   ],
   "source": [
    "def predict_survival_for_user(vopenid=None, test_index=None):\n",
    "    if vopenid is not None:\n",
    "        idx = np.where(vopenids_test == vopenid)[0]\n",
    "        if len(idx) == 0:\n",
    "            print(\"Not found user\")\n",
    "            return\n",
    "        user_index = idx[0]\n",
    "    elif test_index is not None:\n",
    "        if test_index < 0 or test_index >= len(X_test_scaled):\n",
    "            print(\"Invalid test_index\")\n",
    "            return\n",
    "        user_index = test_index\n",
    "    else:\n",
    "        print(\"Input must be vopenid or test_index!\")\n",
    "        return\n",
    "\n",
    "    x_one = X_test_scaled[user_index].reshape(1, -1)\n",
    "    risk = rsf.predict(x_one)[0]\n",
    "    sf_func = rsf.predict_survival_function(x_one)\n",
    "    sf = sf_func[0].y\n",
    "    timeline = sf_func[0].x\n",
    "\n",
    "    if np.any(sf <= 0.5):\n",
    "        median_surv_time = timeline[np.where(sf <= 0.5)[0][0]]\n",
    "    else:\n",
    "        median_surv_time = timeline[-1]\n",
    "\n",
    "    def get_survival_prob_at(days, timeline, sf):\n",
    "        if days in timeline:\n",
    "            idx = np.where(timeline == days)[0][0]\n",
    "            return sf[idx]\n",
    "        else:\n",
    "            idx = np.searchsorted(timeline, days, side='right') - 1\n",
    "            return sf[idx] if idx >= 0 else 1.0\n",
    "\n",
    "    s7 = get_survival_prob_at(7, timeline, sf)\n",
    "    s30 = get_survival_prob_at(30, timeline, sf)\n",
    "\n",
    "    print(f\"User vopenid={vopenids_test[user_index]} | test_index={user_index} Metrics:\")\n",
    "    print(f\"- Risk score: {risk:.4f}\")\n",
    "    print(f\"- Median survival time: {median_surv_time:.2f} days\")\n",
    "    print(f\"- Survive 7d: {s7:.3f}, Survive 30d: {s30:.3f}\")\n",
    "    print(f\"- Timeline (day: P[still active]):\")\n",
    "    # for t, p in zip(timeline, sf):\n",
    "    #     print(f\"  Day {t:.0f}: P = {p:.3f}\")\n",
    "    return risk,median_surv_time,s7,s30\n",
    "\n",
    "#predict_survival_for_user(vopenid=2503131708350272)\n",
    "risk,median_surv_time,s7,s30=predict_survival_for_user(test_index=400)"
   ]
  },
  {
   "cell_type": "code",
   "execution_count": null,
   "id": "bd0fa59f",
   "metadata": {},
   "outputs": [
    {
     "name": "stdout",
     "output_type": "stream",
     "text": [
      "Risk score combined: 0.7510\n"
     ]
    }
   ],
   "source": [
    "churn_proba = 0.502    \n",
    "alpha = 0.5            \n",
    "risk_score = alpha * churn_proba + (1 - alpha) * (1 - s30)\n",
    "print(f\"Risk score combined: {risk_score:.4f}\")"
   ]
  },
  {
   "cell_type": "code",
   "execution_count": null,
   "id": "a1e9b05b",
   "metadata": {},
   "outputs": [],
   "source": []
  },
  {
   "cell_type": "code",
   "execution_count": null,
   "id": "c03d2ecb",
   "metadata": {},
   "outputs": [],
   "source": []
  },
  {
   "cell_type": "code",
   "execution_count": null,
   "id": "045d13f1",
   "metadata": {},
   "outputs": [],
   "source": []
  },
  {
   "cell_type": "code",
   "execution_count": null,
   "id": "ae27785e",
   "metadata": {},
   "outputs": [],
   "source": []
  },
  {
   "cell_type": "code",
   "execution_count": null,
   "id": "3a88f6f6",
   "metadata": {},
   "outputs": [],
   "source": []
  }
 ],
 "metadata": {
  "kernelspec": {
   "display_name": "Python 3",
   "language": "python",
   "name": "python3"
  },
  "language_info": {
   "codemirror_mode": {
    "name": "ipython",
    "version": 3
   },
   "file_extension": ".py",
   "mimetype": "text/x-python",
   "name": "python",
   "nbconvert_exporter": "python",
   "pygments_lexer": "ipython3",
   "version": "3.12.6"
  }
 },
 "nbformat": 4,
 "nbformat_minor": 5
}
