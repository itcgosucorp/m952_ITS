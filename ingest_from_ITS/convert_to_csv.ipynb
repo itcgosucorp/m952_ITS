{
 "cells": [
  {
   "cell_type": "markdown",
   "id": "d74882fd",
   "metadata": {},
   "source": [
    "**<h3 style=\"text-align: center; color: #edc9af;\">CONVERT AND MERGE FILES TO ONE FILE </h3>**"
   ]
  },
  {
   "cell_type": "code",
   "execution_count": 1,
   "id": "129af48d",
   "metadata": {},
   "outputs": [],
   "source": [
    "import os\n",
    "import json\n",
    "import pandas as pd\n",
    "from datetime import datetime"
   ]
  },
  {
   "cell_type": "markdown",
   "id": "a6cc7bba",
   "metadata": {},
   "source": [
    "#### **Event login**"
   ]
  },
  {
   "cell_type": "code",
   "execution_count": 25,
   "id": "8ab4b123",
   "metadata": {},
   "outputs": [],
   "source": [
    "event_file=\"login\""
   ]
  },
  {
   "cell_type": "code",
   "execution_count": 2,
   "id": "d772b859",
   "metadata": {},
   "outputs": [
    {
     "ename": "NameError",
     "evalue": "name 'event_file' is not defined",
     "output_type": "error",
     "traceback": [
      "\u001b[31m---------------------------------------------------------------------------\u001b[39m",
      "\u001b[31mNameError\u001b[39m                                 Traceback (most recent call last)",
      "\u001b[36mCell\u001b[39m\u001b[36m \u001b[39m\u001b[32mIn[2]\u001b[39m\u001b[32m, line 6\u001b[39m\n\u001b[32m      1\u001b[39m input_folder = \u001b[33m\"\u001b[39m\u001b[33mdata/data_json\u001b[39m\u001b[33m\"\u001b[39m\n\u001b[32m      2\u001b[39m output_folder = \u001b[33m\"\u001b[39m\u001b[33mdata\u001b[39m\u001b[33m\"\u001b[39m\n\u001b[32m      4\u001b[39m jsonl_files = \u001b[38;5;28msorted\u001b[39m([\n\u001b[32m      5\u001b[39m     f \u001b[38;5;28;01mfor\u001b[39;00m f \u001b[38;5;129;01min\u001b[39;00m os.listdir(input_folder)\n\u001b[32m----> \u001b[39m\u001b[32m6\u001b[39m     \u001b[38;5;28;01mif\u001b[39;00m f.startswith(\u001b[33mf\u001b[39m\u001b[33m\"\u001b[39m\u001b[33mtmp_\u001b[39m\u001b[38;5;132;01m{\u001b[39;00m\u001b[43mevent_file\u001b[49m\u001b[38;5;132;01m}\u001b[39;00m\u001b[33m\"\u001b[39m) \u001b[38;5;129;01mand\u001b[39;00m f.endswith(\u001b[33m\"\u001b[39m\u001b[33m.jsonl\u001b[39m\u001b[33m\"\u001b[39m)\n\u001b[32m      7\u001b[39m ])\n\u001b[32m      9\u001b[39m \u001b[38;5;28;01mif\u001b[39;00m \u001b[38;5;129;01mnot\u001b[39;00m jsonl_files:\n\u001b[32m     10\u001b[39m     \u001b[38;5;28mprint\u001b[39m(\u001b[33m\"\u001b[39m\u001b[33mCannot find *.jsonl in data/data_json/\u001b[39m\u001b[33m\"\u001b[39m)\n",
      "\u001b[31mNameError\u001b[39m: name 'event_file' is not defined"
     ]
    }
   ],
   "source": [
    "input_folder = \"data/data_json\"\n",
    "output_folder = \"data\"\n",
    "\n",
    "jsonl_files = sorted([\n",
    "    f for f in os.listdir(input_folder)\n",
    "    if f.startswith(f\"tmp_{event_file}\") and f.endswith(\".jsonl\")\n",
    "])\n",
    "\n",
    "if not jsonl_files:\n",
    "    print(\"Cannot find *.jsonl in data/data_json/\")\n",
    "    exit()"
   ]
  },
  {
   "cell_type": "code",
   "execution_count": 33,
   "id": "a48f7082",
   "metadata": {},
   "outputs": [],
   "source": [
    "def extract_datetime_from_filename(filename: str, part: str) -> str:\n",
    "    base = filename.replace(\".jsonl\", \"\").split(\"tmp_\")[1]\n",
    "    start_str, end_str = base.split(\"_to_\")\n",
    "    return start_str if part == 'start' else end_str\n",
    "\n",
    "def format_for_filename(ts: str) -> str:\n",
    "    return ts.replace(\":\", \"-\").replace(\"T\", \"_\")"
   ]
  },
  {
   "cell_type": "code",
   "execution_count": 34,
   "id": "686fb6f2",
   "metadata": {},
   "outputs": [],
   "source": [
    "first_time_raw = extract_datetime_from_filename(jsonl_files[0], 'start')\n",
    "last_time_raw  = extract_datetime_from_filename(jsonl_files[-1], 'end')\n",
    "\n",
    "first_time = format_for_filename(first_time_raw)\n",
    "last_time  = format_for_filename(last_time_raw)\n",
    "\n",
    "output_csv_name = f\"m952_{first_time}_to_{last_time}.csv\"\n",
    "output_csv_path = os.path.join(output_folder, output_csv_name)"
   ]
  },
  {
   "cell_type": "code",
   "execution_count": 30,
   "id": "0f32ced4",
   "metadata": {},
   "outputs": [
    {
     "name": "stdout",
     "output_type": "stream",
     "text": [
      "Done: tmp_login_2025-05-03_07-00-00_to_2025-05-04_07-00-00.jsonl — 98653 records\n",
      "Done: tmp_login_2025-05-04_07-00-00_to_2025-05-05_07-00-00.jsonl — 535281 records\n",
      "Done: tmp_login_2025-05-05_07-00-00_to_2025-05-06_07-00-00.jsonl — 607997 records\n",
      "Done: tmp_login_2025-05-06_07-00-00_to_2025-05-07_07-00-00.jsonl — 554523 records\n",
      "Done: tmp_login_2025-05-07_07-00-00_to_2025-05-08_07-00-00.jsonl — 615965 records\n",
      "Done: tmp_login_2025-05-08_07-00-00_to_2025-05-09_07-00-00.jsonl — 562847 records\n",
      "Done: tmp_login_2025-05-09_07-00-00_to_2025-05-10_07-00-00.jsonl — 588048 records\n",
      "Done: tmp_login_2025-05-10_07-00-00_to_2025-05-11_07-00-00.jsonl — 548679 records\n",
      "Done: tmp_login_2025-05-11_07-00-00_to_2025-05-12_07-00-00.jsonl — 554059 records\n",
      "Done: tmp_login_2025-05-12_07-00-00_to_2025-05-13_07-00-00.jsonl — 596602 records\n",
      "Done: tmp_login_2025-05-13_07-00-00_to_2025-05-14_07-00-00.jsonl — 536769 records\n",
      "Done: tmp_login_2025-05-14_07-00-00_to_2025-05-15_07-00-00.jsonl — 585040 records\n",
      "Done: tmp_login_2025-05-15_07-00-00_to_2025-05-16_07-00-00.jsonl — 379240 records\n",
      "Done: tmp_login_2025-05-16_07-00-00_to_2025-05-17_07-00-00.jsonl — 385341 records\n",
      "Done: tmp_login_2025-05-17_07-00-00_to_2025-05-18_07-00-00.jsonl — 345893 records\n",
      "Done: tmp_login_2025-05-18_07-00-00_to_2025-05-19_07-00-00.jsonl — 354213 records\n",
      "Done: tmp_login_2025-05-19_07-00-00_to_2025-05-20_07-00-00.jsonl — 388731 records\n",
      "Done: tmp_login_2025-05-20_07-00-00_to_2025-05-21_07-00-00.jsonl — 367447 records\n",
      "Done: tmp_login_2025-05-21_07-00-00_to_2025-05-22_07-00-00.jsonl — 406957 records\n",
      "Done: tmp_login_2025-05-22_07-00-00_to_2025-05-23_07-00-00.jsonl — 356005 records\n",
      "Done: tmp_login_2025-05-23_07-00-00_to_2025-05-24_07-00-00.jsonl — 422179 records\n",
      "Done: tmp_login_2025-05-24_07-00-00_to_2025-05-25_07-00-00.jsonl — 322259 records\n",
      "Done: tmp_login_2025-05-25_07-00-00_to_2025-05-26_07-00-00.jsonl — 349042 records\n",
      "Done: tmp_login_2025-05-26_07-00-00_to_2025-05-27_07-00-00.jsonl — 401636 records\n",
      "Done: tmp_login_2025-05-27_07-00-00_to_2025-05-28_07-00-00.jsonl — 356434 records\n",
      "Done: tmp_login_2025-05-28_07-00-00_to_2025-05-29_07-00-00.jsonl — 412352 records\n",
      "Done: tmp_login_2025-05-29_07-00-00_to_2025-05-30_07-00-00.jsonl — 369361 records\n",
      "Done: tmp_login_2025-05-30_07-00-00_to_2025-05-31_07-00-00.jsonl — 367658 records\n",
      "Done: tmp_login_2025-05-31_07-00-00_to_2025-06-01_07-00-00.jsonl — 354385 records\n",
      "Done: tmp_login_2025-06-01_07-00-00_to_2025-06-02_07-00-00.jsonl — 352350 records\n",
      "Done: tmp_login_2025-06-02_07-00-00_to_2025-06-03_07-00-00.jsonl — 428528 records\n",
      "Done: tmp_login_2025-06-03_07-00-00_to_2025-06-04_07-00-00.jsonl — 367093 records\n",
      "Done: tmp_login_2025-06-04_07-00-00_to_2025-06-05_07-00-00.jsonl — 379245 records\n",
      "Done: tmp_login_2025-06-05_07-00-00_to_2025-06-06_07-00-00.jsonl — 210000 records\n",
      "Done: tmp_login_2025-06-06_07-00-00_to_2025-06-07_07-00-00.jsonl — 411941 records\n",
      "Done: tmp_login_2025-06-07_07-00-00_to_2025-06-08_07-00-00.jsonl — 340674 records\n",
      "Done: tmp_login_2025-06-08_07-00-00_to_2025-06-09_07-00-00.jsonl — 328308 records\n",
      "Done: tmp_login_2025-06-09_07-00-00_to_2025-06-10_07-00-00.jsonl — 396804 records\n",
      "Done: tmp_login_2025-06-10_07-00-00_to_2025-06-11_07-00-00.jsonl — 323509 records\n",
      "Done: tmp_login_2025-06-11_07-00-00_to_2025-06-12_07-00-00.jsonl — 296904 records\n",
      "Done: tmp_login_2025-06-12_07-00-00_to_2025-06-13_07-00-00.jsonl — 282240 records\n",
      "Done: tmp_login_2025-06-13_07-00-00_to_2025-06-14_07-00-00.jsonl — 324901 records\n",
      "Done: tmp_login_2025-06-14_07-00-00_to_2025-06-15_07-00-00.jsonl — 259958 records\n",
      "Done: tmp_login_2025-06-15_07-00-00_to_2025-06-16_07-00-00.jsonl — 271706 records\n",
      "Done: tmp_login_2025-06-16_07-00-00_to_2025-06-17_07-00-00.jsonl — 382356 records\n",
      "Done: tmp_login_2025-06-17_07-00-00_to_2025-06-18_07-00-00.jsonl — 361210 records\n",
      "Done: tmp_login_2025-06-18_07-00-00_to_2025-06-19_07-00-00.jsonl — 440524 records\n",
      "Done: tmp_login_2025-06-19_07-00-00_to_2025-06-20_07-00-00.jsonl — 336190 records\n",
      "Done: tmp_login_2025-06-20_07-00-00_to_2025-06-21_07-00-00.jsonl — 438022 records\n",
      "Done: tmp_login_2025-06-21_07-00-00_to_2025-06-22_07-00-00.jsonl — 387934 records\n",
      "Done: tmp_login_2025-06-22_07-00-00_to_2025-06-23_07-00-00.jsonl — 382485 records\n",
      "Done: tmp_login_2025-06-23_07-00-00_to_2025-06-24_07-00-00.jsonl — 464144 records\n",
      "Done: tmp_login_2025-06-24_07-00-00_to_2025-06-25_07-00-00.jsonl — 420191 records\n",
      "Done: tmp_login_2025-06-25_07-00-00_to_2025-06-26_07-00-00.jsonl — 460252 records\n",
      "\n",
      "Completed convert 21,771,065 records to: data\\m952_login_2025-05-01_07-00-00_to_2025-06-26_07-00-00.csv\n"
     ]
    }
   ],
   "source": [
    "columns_keep = [\n",
    "    \"@timestamp\",\n",
    "    \"user.id\",\n",
    "    \"event.its.properties.gold\",\n",
    "    \"event.its.properties.diamond\",\n",
    "    \"event.its.properties.power_point\",\n",
    "    \"event.its.properties.level\",\n",
    "    \"event.its.properties.vip_level\",\n",
    "    \"event.its.properties.dragon_gold\"\n",
    "]\n",
    "\n",
    "if os.path.exists(output_csv_path):\n",
    "    print(f\"File exists: {output_csv_path} , stopped.\")\n",
    "\n",
    "else:\n",
    "    is_first = True\n",
    "    total_records = 0\n",
    "\n",
    "    for file in jsonl_files:\n",
    "        full_path = os.path.join(input_folder, file)\n",
    "        with open(full_path, \"r\", encoding=\"utf-8\") as f:\n",
    "            lines = []\n",
    "            for line in f:\n",
    "                try:\n",
    "                    obj = json.loads(line.strip())\n",
    "                    lines.append(obj)\n",
    "                except json.JSONDecodeError:\n",
    "                    print(f\"Error decoding line in file: {file}\")\n",
    "\n",
    "            if lines:\n",
    "                df = pd.json_normalize(lines)\n",
    "\n",
    "                for col in columns_keep:\n",
    "                    if col not in df.columns:\n",
    "                        df[col] = None\n",
    "\n",
    "                df = df[columns_keep]\n",
    "                df.to_csv(output_csv_path, index=False, mode='w' if is_first else 'a', header=is_first)\n",
    "                total_records += len(df)\n",
    "                is_first = False\n",
    "                print(f\"Done: {file} — {len(df)} records\")\n",
    "\n",
    "    print(f\"\\nCompleted convert {total_records:,} records to: {output_csv_path}\")\n"
   ]
  },
  {
   "cell_type": "markdown",
   "id": "9ebdfda2",
   "metadata": {},
   "source": [
    "#### **Not event login**"
   ]
  },
  {
   "cell_type": "code",
   "execution_count": 3,
   "id": "c1cc080f",
   "metadata": {},
   "outputs": [],
   "source": [
    "event_file=\"equipenhance\""
   ]
  },
  {
   "cell_type": "code",
   "execution_count": 4,
   "id": "52599f4f",
   "metadata": {},
   "outputs": [],
   "source": [
    "# columns_keep = [\n",
    "#     \"@timestamp\", \"user.id\",\n",
    "#     'event.its.properties.product_name',\n",
    "#     'event.its.properties.payment_amount',\n",
    "# ]\n",
    "# columns_keep = [\n",
    "#     '@timestamp',\n",
    "#     'user.id',\n",
    "#     'event.its.properties.i_money_type',\n",
    "#     'event.its.properties.i_zone_area_id',\n",
    "#     'event.its.properties.quantity',\n",
    "#     'event.its.properties.i_money_value',\n",
    "#     'event.its.properties.power_point',\n",
    "#     'event.its.properties.i_shop_type',\n",
    "# ]\n",
    "# columns_keep = [\n",
    "#     '@timestamp',\n",
    "#     'user.id',\n",
    "# ]\n",
    "columns_keep=[\n",
    "    '@timestamp',\n",
    "    'user.id',\n",
    "    'its.properties.i_before_level',\n",
    "    'its.properties.i_after_level',\n",
    "]"
   ]
  },
  {
   "cell_type": "code",
   "execution_count": 5,
   "id": "7dea4970",
   "metadata": {},
   "outputs": [],
   "source": [
    "def convert_jsonl_to_csv(\n",
    "    jsonl_files,\n",
    "    input_folder,\n",
    "    output_csv_path,\n",
    "    columns_keep\n",
    "):\n",
    "    is_first = True\n",
    "    total_records = 0\n",
    "\n",
    "    for file in jsonl_files:\n",
    "        full_path = os.path.join(input_folder, file)\n",
    "        with open(full_path, \"r\", encoding=\"utf-8\") as f:\n",
    "            lines = []\n",
    "            for line in f:\n",
    "                try:\n",
    "                    obj = json.loads(line.strip())\n",
    "                    lines.append(obj)\n",
    "                except json.JSONDecodeError:\n",
    "                    print(f\"Error decoding line in file: {file}\")\n",
    "\n",
    "        if lines:  \n",
    "            df = pd.json_normalize(lines)\n",
    "            for col in columns_keep:\n",
    "                if col not in df.columns:\n",
    "                    df[col] = None\n",
    "\n",
    "            df = df[columns_keep]\n",
    "\n",
    "            df.to_csv(output_csv_path, index=False, mode='w' if is_first else 'a', header=is_first)\n",
    "            total_records += len(df)\n",
    "            is_first = False\n",
    "\n",
    "            print(f\"Done: {file} ({len(df)} records)\")\n",
    "\n",
    "    print(f\"\\nConverted {total_records:,} records to: {output_csv_path}\")\n"
   ]
  },
  {
   "cell_type": "code",
   "execution_count": 6,
   "id": "19fbdfb7",
   "metadata": {},
   "outputs": [],
   "source": [
    "input_folder = \"data/data_json\"\n",
    "jsonl_files = sorted([\n",
    "    f for f in os.listdir(input_folder)\n",
    "    if f.startswith(f\"tmp_{event_file}\") and f.endswith(\".jsonl\")\n",
    "])"
   ]
  },
  {
   "cell_type": "code",
   "execution_count": 7,
   "id": "b6191a7d",
   "metadata": {},
   "outputs": [
    {
     "name": "stdout",
     "output_type": "stream",
     "text": [
      "Done: tmp_equipenhance_2025-05-03_07-00-00_to_2025-05-04_07-00-00.jsonl (76261 records)\n",
      "Done: tmp_equipenhance_2025-05-04_07-00-00_to_2025-05-05_07-00-00.jsonl (157296 records)\n",
      "Done: tmp_equipenhance_2025-05-05_07-00-00_to_2025-05-06_07-00-00.jsonl (203088 records)\n",
      "Done: tmp_equipenhance_2025-05-06_07-00-00_to_2025-05-07_07-00-00.jsonl (162167 records)\n",
      "Done: tmp_equipenhance_2025-05-07_07-00-00_to_2025-05-08_07-00-00.jsonl (163274 records)\n",
      "Done: tmp_equipenhance_2025-05-08_07-00-00_to_2025-05-09_07-00-00.jsonl (156776 records)\n",
      "Done: tmp_equipenhance_2025-05-09_07-00-00_to_2025-05-10_07-00-00.jsonl (155980 records)\n",
      "Done: tmp_equipenhance_2025-05-10_07-00-00_to_2025-05-11_07-00-00.jsonl (147935 records)\n",
      "Done: tmp_equipenhance_2025-05-11_07-00-00_to_2025-05-12_07-00-00.jsonl (158589 records)\n",
      "Done: tmp_equipenhance_2025-05-12_07-00-00_to_2025-05-13_07-00-00.jsonl (226015 records)\n",
      "Done: tmp_equipenhance_2025-05-13_07-00-00_to_2025-05-14_07-00-00.jsonl (172713 records)\n",
      "Done: tmp_equipenhance_2025-05-14_07-00-00_to_2025-05-15_07-00-00.jsonl (183798 records)\n",
      "Done: tmp_equipenhance_2025-05-15_07-00-00_to_2025-05-16_07-00-00.jsonl (166984 records)\n",
      "Done: tmp_equipenhance_2025-05-16_07-00-00_to_2025-05-17_07-00-00.jsonl (171087 records)\n",
      "Done: tmp_equipenhance_2025-05-17_07-00-00_to_2025-05-18_07-00-00.jsonl (164233 records)\n",
      "Done: tmp_equipenhance_2025-05-18_07-00-00_to_2025-05-19_07-00-00.jsonl (154224 records)\n",
      "Done: tmp_equipenhance_2025-05-19_07-00-00_to_2025-05-20_07-00-00.jsonl (197176 records)\n",
      "Done: tmp_equipenhance_2025-05-20_07-00-00_to_2025-05-21_07-00-00.jsonl (176805 records)\n",
      "Done: tmp_equipenhance_2025-05-21_07-00-00_to_2025-05-22_07-00-00.jsonl (171493 records)\n",
      "Done: tmp_equipenhance_2025-05-22_07-00-00_to_2025-05-23_07-00-00.jsonl (162031 records)\n",
      "Done: tmp_equipenhance_2025-05-23_07-00-00_to_2025-05-24_07-00-00.jsonl (170383 records)\n",
      "Done: tmp_equipenhance_2025-05-24_07-00-00_to_2025-05-25_07-00-00.jsonl (146321 records)\n",
      "Done: tmp_equipenhance_2025-05-25_07-00-00_to_2025-05-26_07-00-00.jsonl (162706 records)\n",
      "Done: tmp_equipenhance_2025-05-26_07-00-00_to_2025-05-27_07-00-00.jsonl (212792 records)\n",
      "Done: tmp_equipenhance_2025-05-27_07-00-00_to_2025-05-28_07-00-00.jsonl (178101 records)\n",
      "Done: tmp_equipenhance_2025-05-28_07-00-00_to_2025-05-29_07-00-00.jsonl (174998 records)\n",
      "Done: tmp_equipenhance_2025-05-29_07-00-00_to_2025-05-30_07-00-00.jsonl (159691 records)\n",
      "Done: tmp_equipenhance_2025-05-30_07-00-00_to_2025-05-31_07-00-00.jsonl (153168 records)\n",
      "Done: tmp_equipenhance_2025-05-31_07-00-00_to_2025-06-01_07-00-00.jsonl (162082 records)\n",
      "Done: tmp_equipenhance_2025-06-01_07-00-00_to_2025-06-02_07-00-00.jsonl (157444 records)\n",
      "Done: tmp_equipenhance_2025-06-02_07-00-00_to_2025-06-03_07-00-00.jsonl (172247 records)\n",
      "Done: tmp_equipenhance_2025-06-03_07-00-00_to_2025-06-04_07-00-00.jsonl (127417 records)\n",
      "Done: tmp_equipenhance_2025-06-04_07-00-00_to_2025-06-05_07-00-00.jsonl (107590 records)\n",
      "Done: tmp_equipenhance_2025-06-05_07-00-00_to_2025-06-06_07-00-00.jsonl (105752 records)\n",
      "Done: tmp_equipenhance_2025-06-06_07-00-00_to_2025-06-07_07-00-00.jsonl (98809 records)\n",
      "Done: tmp_equipenhance_2025-06-07_07-00-00_to_2025-06-08_07-00-00.jsonl (94594 records)\n",
      "Done: tmp_equipenhance_2025-06-08_07-00-00_to_2025-06-09_07-00-00.jsonl (106020 records)\n",
      "Done: tmp_equipenhance_2025-06-09_07-00-00_to_2025-06-10_07-00-00.jsonl (136942 records)\n",
      "Done: tmp_equipenhance_2025-06-10_07-00-00_to_2025-06-11_07-00-00.jsonl (106124 records)\n",
      "Done: tmp_equipenhance_2025-06-11_07-00-00_to_2025-06-12_07-00-00.jsonl (72904 records)\n",
      "Done: tmp_equipenhance_2025-06-12_07-00-00_to_2025-06-13_07-00-00.jsonl (88037 records)\n",
      "Done: tmp_equipenhance_2025-06-13_07-00-00_to_2025-06-14_07-00-00.jsonl (91543 records)\n",
      "Done: tmp_equipenhance_2025-06-14_07-00-00_to_2025-06-15_07-00-00.jsonl (87081 records)\n",
      "Done: tmp_equipenhance_2025-06-15_07-00-00_to_2025-06-16_07-00-00.jsonl (100947 records)\n",
      "Done: tmp_equipenhance_2025-06-16_07-00-00_to_2025-06-17_07-00-00.jsonl (136945 records)\n",
      "Done: tmp_equipenhance_2025-06-17_07-00-00_to_2025-06-18_07-00-00.jsonl (125528 records)\n",
      "Done: tmp_equipenhance_2025-06-18_07-00-00_to_2025-06-19_07-00-00.jsonl (116555 records)\n",
      "Done: tmp_equipenhance_2025-06-19_07-00-00_to_2025-06-20_07-00-00.jsonl (106368 records)\n",
      "Done: tmp_equipenhance_2025-06-20_07-00-00_to_2025-06-21_07-00-00.jsonl (116619 records)\n",
      "Done: tmp_equipenhance_2025-06-21_07-00-00_to_2025-06-22_07-00-00.jsonl (120873 records)\n",
      "Done: tmp_equipenhance_2025-06-22_07-00-00_to_2025-06-23_07-00-00.jsonl (121765 records)\n",
      "Done: tmp_equipenhance_2025-06-23_07-00-00_to_2025-06-24_07-00-00.jsonl (146420 records)\n",
      "Done: tmp_equipenhance_2025-06-24_07-00-00_to_2025-06-25_07-00-00.jsonl (141278 records)\n",
      "Done: tmp_equipenhance_2025-06-25_07-00-00_to_2025-06-26_07-00-00.jsonl (109337 records)\n",
      "\n",
      "Converted 7,743,306 records to: data/m952_equipenhance_2025-05-01_00-00-00_to_2025-06-26_00-00-00.csv\n"
     ]
    }
   ],
   "source": [
    "start_date = \"2025-05-01_00-00-00\"\n",
    "end_date   = \"2025-06-26_00-00-00\"\n",
    "output_csv_path = f\"data/m952_{event_file}_{start_date}_to_{end_date}.csv\"\n",
    "convert_jsonl_to_csv(\n",
    "    jsonl_files=jsonl_files,\n",
    "    input_folder=input_folder,\n",
    "    output_csv_path=output_csv_path,\n",
    "    columns_keep=columns_keep\n",
    ")"
   ]
  }
 ],
 "metadata": {
  "kernelspec": {
   "display_name": "Python 3",
   "language": "python",
   "name": "python3"
  },
  "language_info": {
   "codemirror_mode": {
    "name": "ipython",
    "version": 3
   },
   "file_extension": ".py",
   "mimetype": "text/x-python",
   "name": "python",
   "nbconvert_exporter": "python",
   "pygments_lexer": "ipython3",
   "version": "3.12.6"
  }
 },
 "nbformat": 4,
 "nbformat_minor": 5
}
